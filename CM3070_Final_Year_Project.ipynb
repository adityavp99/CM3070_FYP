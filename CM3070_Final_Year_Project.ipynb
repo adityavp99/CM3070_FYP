{
 "cells": [
  {
   "cell_type": "markdown",
   "id": "3628834c",
   "metadata": {},
   "source": [
    "# CM3070 Final Year Project"
   ]
  },
  {
   "cell_type": "markdown",
   "id": "6b8625f8",
   "metadata": {},
   "source": [
    "### Theme: CM3015 Machine Learning and Neural Networks\n",
    "### Project Template: Deep Learning on a public dataset\n",
    "### Project Topic: Personalized Movie Recommendation System"
   ]
  },
  {
   "cell_type": "markdown",
   "id": "dd022cca",
   "metadata": {},
   "source": [
    "### The code and work presented in this notebook are solely my own. No code has been generated, inspired, or corrected by any large language models (LLMs). Any methods or codes in this notebook that have been referenced, adapted, or used as given in the source have been explicitly mentioned above the respective code segments. I take full responsibility for the originality and accuracy of the work presented herein."
   ]
  },
  {
   "cell_type": "markdown",
   "id": "00cbb29c",
   "metadata": {},
   "source": [
    "## Installing and Importing the required Libraries"
   ]
  },
  {
   "cell_type": "code",
   "execution_count": 1,
   "id": "6947220c-485c-4c9c-8862-ff44ab1411ff",
   "metadata": {},
   "outputs": [
    {
     "name": "stdout",
     "output_type": "stream",
     "text": [
      "Requirement already satisfied: tensorboard in /opt/homebrew/Caskroom/miniforge/base/envs/Fyp/lib/python3.10/site-packages (2.13.0)\n",
      "Requirement already satisfied: absl-py>=0.4 in /opt/homebrew/Caskroom/miniforge/base/envs/Fyp/lib/python3.10/site-packages (from tensorboard) (1.4.0)\n",
      "Requirement already satisfied: grpcio>=1.48.2 in /opt/homebrew/Caskroom/miniforge/base/envs/Fyp/lib/python3.10/site-packages (from tensorboard) (1.56.2)\n",
      "Requirement already satisfied: google-auth<3,>=1.6.3 in /opt/homebrew/Caskroom/miniforge/base/envs/Fyp/lib/python3.10/site-packages (from tensorboard) (2.22.0)\n",
      "Requirement already satisfied: google-auth-oauthlib<1.1,>=0.5 in /opt/homebrew/Caskroom/miniforge/base/envs/Fyp/lib/python3.10/site-packages (from tensorboard) (1.0.0)\n",
      "Requirement already satisfied: markdown>=2.6.8 in /opt/homebrew/Caskroom/miniforge/base/envs/Fyp/lib/python3.10/site-packages (from tensorboard) (3.4.4)\n",
      "Requirement already satisfied: numpy>=1.12.0 in /opt/homebrew/Caskroom/miniforge/base/envs/Fyp/lib/python3.10/site-packages (from tensorboard) (1.25.1)\n",
      "Requirement already satisfied: protobuf>=3.19.6 in /opt/homebrew/Caskroom/miniforge/base/envs/Fyp/lib/python3.10/site-packages (from tensorboard) (4.23.4)\n",
      "Requirement already satisfied: requests<3,>=2.21.0 in /opt/homebrew/Caskroom/miniforge/base/envs/Fyp/lib/python3.10/site-packages (from tensorboard) (2.31.0)\n",
      "Requirement already satisfied: setuptools>=41.0.0 in /opt/homebrew/Caskroom/miniforge/base/envs/Fyp/lib/python3.10/site-packages (from tensorboard) (68.0.0)\n",
      "Requirement already satisfied: tensorboard-data-server<0.8.0,>=0.7.0 in /opt/homebrew/Caskroom/miniforge/base/envs/Fyp/lib/python3.10/site-packages (from tensorboard) (0.7.1)\n",
      "Requirement already satisfied: werkzeug>=1.0.1 in /opt/homebrew/Caskroom/miniforge/base/envs/Fyp/lib/python3.10/site-packages (from tensorboard) (2.3.6)\n",
      "Requirement already satisfied: wheel>=0.26 in /opt/homebrew/Caskroom/miniforge/base/envs/Fyp/lib/python3.10/site-packages (from tensorboard) (0.41.0)\n",
      "Requirement already satisfied: cachetools<6.0,>=2.0.0 in /opt/homebrew/Caskroom/miniforge/base/envs/Fyp/lib/python3.10/site-packages (from google-auth<3,>=1.6.3->tensorboard) (5.3.1)\n",
      "Requirement already satisfied: pyasn1-modules>=0.2.1 in /opt/homebrew/Caskroom/miniforge/base/envs/Fyp/lib/python3.10/site-packages (from google-auth<3,>=1.6.3->tensorboard) (0.3.0)\n",
      "Requirement already satisfied: rsa<5,>=3.1.4 in /opt/homebrew/Caskroom/miniforge/base/envs/Fyp/lib/python3.10/site-packages (from google-auth<3,>=1.6.3->tensorboard) (4.9)\n",
      "Requirement already satisfied: six>=1.9.0 in /opt/homebrew/Caskroom/miniforge/base/envs/Fyp/lib/python3.10/site-packages (from google-auth<3,>=1.6.3->tensorboard) (1.16.0)\n",
      "Requirement already satisfied: urllib3<2.0 in /opt/homebrew/Caskroom/miniforge/base/envs/Fyp/lib/python3.10/site-packages (from google-auth<3,>=1.6.3->tensorboard) (1.26.16)\n",
      "Requirement already satisfied: requests-oauthlib>=0.7.0 in /opt/homebrew/Caskroom/miniforge/base/envs/Fyp/lib/python3.10/site-packages (from google-auth-oauthlib<1.1,>=0.5->tensorboard) (1.3.1)\n",
      "Requirement already satisfied: charset-normalizer<4,>=2 in /opt/homebrew/Caskroom/miniforge/base/envs/Fyp/lib/python3.10/site-packages (from requests<3,>=2.21.0->tensorboard) (3.2.0)\n",
      "Requirement already satisfied: idna<4,>=2.5 in /opt/homebrew/Caskroom/miniforge/base/envs/Fyp/lib/python3.10/site-packages (from requests<3,>=2.21.0->tensorboard) (3.4)\n",
      "Requirement already satisfied: certifi>=2017.4.17 in /opt/homebrew/Caskroom/miniforge/base/envs/Fyp/lib/python3.10/site-packages (from requests<3,>=2.21.0->tensorboard) (2023.7.22)\n",
      "Requirement already satisfied: MarkupSafe>=2.1.1 in /opt/homebrew/Caskroom/miniforge/base/envs/Fyp/lib/python3.10/site-packages (from werkzeug>=1.0.1->tensorboard) (2.1.3)\n",
      "Requirement already satisfied: pyasn1<0.6.0,>=0.4.6 in /opt/homebrew/Caskroom/miniforge/base/envs/Fyp/lib/python3.10/site-packages (from pyasn1-modules>=0.2.1->google-auth<3,>=1.6.3->tensorboard) (0.5.0)\n",
      "Requirement already satisfied: oauthlib>=3.0.0 in /opt/homebrew/Caskroom/miniforge/base/envs/Fyp/lib/python3.10/site-packages (from requests-oauthlib>=0.7.0->google-auth-oauthlib<1.1,>=0.5->tensorboard) (3.2.2)\n"
     ]
    }
   ],
   "source": [
    "!pip install tensorboard"
   ]
  },
  {
   "cell_type": "code",
   "execution_count": 2,
   "id": "a1775925",
   "metadata": {},
   "outputs": [],
   "source": [
    "# Numpy\n",
    "import numpy as np\n",
    "# Pandas\n",
    "import pandas as pd\n",
    "\n",
    "# Visualization Libraries\n",
    "# Matplotlib\n",
    "import matplotlib.pyplot as plt\n",
    "# Seaborn\n",
    "import seaborn as sns\n",
    " \n",
    "# Scikit-Surprise (To build the SVD model)\n",
    "from surprise import SVD\n",
    "from surprise import SVDpp\n",
    "from surprise import Dataset\n",
    "from surprise import Reader\n",
    "from surprise import accuracy\n",
    "from surprise.model_selection import train_test_split\n",
    "\n",
    "# PyTorch(For the stacked autoencoders)\n",
    "import torch \n",
    "import torch.nn as nn\n",
    "import torch.nn.parallel\n",
    "import torch.optim as optim\n",
    "import torch.utils.data\n",
    "from torch.autograd import Variable\n",
    "from torch.utils.tensorboard import SummaryWriter\n",
    "\n",
    "# Random module for setting random seed\n",
    "import random\n",
    "\n",
    "# Setting the random seed for reproducibility\n",
    "random_seed = 33\n",
    "random.seed(random_seed)\n",
    "np.random.seed(random_seed)\n",
    "torch.manual_seed(random_seed)\n",
    "torch.backends.cudnn.deterministic = True\n",
    "torch.backends.cudnn.benchmark = False"
   ]
  },
  {
   "cell_type": "markdown",
   "id": "5ae416a6",
   "metadata": {},
   "source": [
    "## Importing the Datasets and Initial Data Exploration"
   ]
  },
  {
   "cell_type": "markdown",
   "id": "39aeea52",
   "metadata": {},
   "source": [
    "### Movie Dataset"
   ]
  },
  {
   "cell_type": "code",
   "execution_count": 3,
   "id": "30253ecf",
   "metadata": {},
   "outputs": [
    {
     "data": {
      "text/html": [
       "<div>\n",
       "<style scoped>\n",
       "    .dataframe tbody tr th:only-of-type {\n",
       "        vertical-align: middle;\n",
       "    }\n",
       "\n",
       "    .dataframe tbody tr th {\n",
       "        vertical-align: top;\n",
       "    }\n",
       "\n",
       "    .dataframe thead th {\n",
       "        text-align: right;\n",
       "    }\n",
       "</style>\n",
       "<table border=\"1\" class=\"dataframe\">\n",
       "  <thead>\n",
       "    <tr style=\"text-align: right;\">\n",
       "      <th></th>\n",
       "      <th>movieId</th>\n",
       "      <th>title</th>\n",
       "      <th>genres</th>\n",
       "    </tr>\n",
       "  </thead>\n",
       "  <tbody>\n",
       "    <tr>\n",
       "      <th>0</th>\n",
       "      <td>1</td>\n",
       "      <td>Toy Story (1995)</td>\n",
       "      <td>Adventure|Animation|Children|Comedy|Fantasy</td>\n",
       "    </tr>\n",
       "    <tr>\n",
       "      <th>1</th>\n",
       "      <td>2</td>\n",
       "      <td>Jumanji (1995)</td>\n",
       "      <td>Adventure|Children|Fantasy</td>\n",
       "    </tr>\n",
       "    <tr>\n",
       "      <th>2</th>\n",
       "      <td>3</td>\n",
       "      <td>Grumpier Old Men (1995)</td>\n",
       "      <td>Comedy|Romance</td>\n",
       "    </tr>\n",
       "    <tr>\n",
       "      <th>3</th>\n",
       "      <td>4</td>\n",
       "      <td>Waiting to Exhale (1995)</td>\n",
       "      <td>Comedy|Drama|Romance</td>\n",
       "    </tr>\n",
       "    <tr>\n",
       "      <th>4</th>\n",
       "      <td>5</td>\n",
       "      <td>Father of the Bride Part II (1995)</td>\n",
       "      <td>Comedy</td>\n",
       "    </tr>\n",
       "  </tbody>\n",
       "</table>\n",
       "</div>"
      ],
      "text/plain": [
       "   movieId                               title  \\\n",
       "0        1                    Toy Story (1995)   \n",
       "1        2                      Jumanji (1995)   \n",
       "2        3             Grumpier Old Men (1995)   \n",
       "3        4            Waiting to Exhale (1995)   \n",
       "4        5  Father of the Bride Part II (1995)   \n",
       "\n",
       "                                        genres  \n",
       "0  Adventure|Animation|Children|Comedy|Fantasy  \n",
       "1                   Adventure|Children|Fantasy  \n",
       "2                               Comedy|Romance  \n",
       "3                         Comedy|Drama|Romance  \n",
       "4                                       Comedy  "
      ]
     },
     "execution_count": 3,
     "metadata": {},
     "output_type": "execute_result"
    }
   ],
   "source": [
    "movies_df = pd.read_csv('dataset/movies_original.csv')\n",
    "movies_df.head()"
   ]
  },
  {
   "cell_type": "code",
   "execution_count": 4,
   "id": "23ec3f3e",
   "metadata": {
    "scrolled": true
   },
   "outputs": [
    {
     "name": "stdout",
     "output_type": "stream",
     "text": [
      "<class 'pandas.core.frame.DataFrame'>\n",
      "RangeIndex: 9742 entries, 0 to 9741\n",
      "Data columns (total 3 columns):\n",
      " #   Column   Non-Null Count  Dtype \n",
      "---  ------   --------------  ----- \n",
      " 0   movieId  9742 non-null   int64 \n",
      " 1   title    9742 non-null   object\n",
      " 2   genres   9742 non-null   object\n",
      "dtypes: int64(1), object(2)\n",
      "memory usage: 228.5+ KB\n"
     ]
    }
   ],
   "source": [
    "movies_df.info()"
   ]
  },
  {
   "cell_type": "markdown",
   "id": "7f131957",
   "metadata": {},
   "source": [
    "The dataset titled <b>movies.csv</b> comprises information pertaining to various movies. It encompasses three distinct features, namely:\n",
    "<ol>\n",
    "    <li><b>Movie Id:</b>  This numerical feature serves as a unique identifier for each movie in the dataset. It allows for the differentiation of individual movies and aids in establishing their uniqueness.</li>\n",
    "    <li><b>Title:</b> This categorical feature corresponds to the specific name assigned to a movie. Given the potential existence of multiple movies sharing the same title, the inclusion of the \"Movie Id\" feature facilitates the distinction of these movies as separate entities.</li>\n",
    "    <li><b>Genres:</b> This categorical feature captures the categorization of movies based on their thematic content, encompassing a wide array of genres such as Comedy, Adventure, Romance, and more.</li> \n",
    "</ol>\n",
    "The dataset consists of a total of <b>9,742</b> records for each of the features mentioned above."
   ]
  },
  {
   "cell_type": "code",
   "execution_count": 5,
   "id": "cfd36af0",
   "metadata": {},
   "outputs": [
    {
     "data": {
      "text/plain": [
       "movieId    9742\n",
       "title      9737\n",
       "genres      951\n",
       "dtype: int64"
      ]
     },
     "execution_count": 5,
     "metadata": {},
     "output_type": "execute_result"
    }
   ],
   "source": [
    "movies_df.nunique()"
   ]
  },
  {
   "cell_type": "markdown",
   "id": "4c28028d",
   "metadata": {},
   "source": [
    "Upon closer examination of the dataset, it becomes apparent that the Title feature reveals a slight incongruity in terms of its uniqueness. Notably, while the movieId column boasts a total of <b>9742</b> distinct values, the Title column only exhibits <b>9737</b> unique values. This observation suggests the existence of duplicate movie titles within the dataset. Consequently, it is imperative to undertake a meticulous investigation and subsequently address this matter in the <b>Data Cleaning and Preprocessing</b> phase."
   ]
  },
  {
   "cell_type": "markdown",
   "id": "7577d485",
   "metadata": {},
   "source": [
    "### Ratings Dataset"
   ]
  },
  {
   "cell_type": "code",
   "execution_count": 6,
   "id": "eace23d9",
   "metadata": {},
   "outputs": [
    {
     "data": {
      "text/html": [
       "<div>\n",
       "<style scoped>\n",
       "    .dataframe tbody tr th:only-of-type {\n",
       "        vertical-align: middle;\n",
       "    }\n",
       "\n",
       "    .dataframe tbody tr th {\n",
       "        vertical-align: top;\n",
       "    }\n",
       "\n",
       "    .dataframe thead th {\n",
       "        text-align: right;\n",
       "    }\n",
       "</style>\n",
       "<table border=\"1\" class=\"dataframe\">\n",
       "  <thead>\n",
       "    <tr style=\"text-align: right;\">\n",
       "      <th></th>\n",
       "      <th>userId</th>\n",
       "      <th>movieId</th>\n",
       "      <th>rating</th>\n",
       "      <th>timestamp</th>\n",
       "    </tr>\n",
       "  </thead>\n",
       "  <tbody>\n",
       "    <tr>\n",
       "      <th>0</th>\n",
       "      <td>1</td>\n",
       "      <td>1</td>\n",
       "      <td>4.0</td>\n",
       "      <td>964982703</td>\n",
       "    </tr>\n",
       "    <tr>\n",
       "      <th>1</th>\n",
       "      <td>1</td>\n",
       "      <td>3</td>\n",
       "      <td>4.0</td>\n",
       "      <td>964981247</td>\n",
       "    </tr>\n",
       "    <tr>\n",
       "      <th>2</th>\n",
       "      <td>1</td>\n",
       "      <td>6</td>\n",
       "      <td>4.0</td>\n",
       "      <td>964982224</td>\n",
       "    </tr>\n",
       "    <tr>\n",
       "      <th>3</th>\n",
       "      <td>1</td>\n",
       "      <td>47</td>\n",
       "      <td>5.0</td>\n",
       "      <td>964983815</td>\n",
       "    </tr>\n",
       "    <tr>\n",
       "      <th>4</th>\n",
       "      <td>1</td>\n",
       "      <td>50</td>\n",
       "      <td>5.0</td>\n",
       "      <td>964982931</td>\n",
       "    </tr>\n",
       "  </tbody>\n",
       "</table>\n",
       "</div>"
      ],
      "text/plain": [
       "   userId  movieId  rating  timestamp\n",
       "0       1        1     4.0  964982703\n",
       "1       1        3     4.0  964981247\n",
       "2       1        6     4.0  964982224\n",
       "3       1       47     5.0  964983815\n",
       "4       1       50     5.0  964982931"
      ]
     },
     "execution_count": 6,
     "metadata": {},
     "output_type": "execute_result"
    }
   ],
   "source": [
    "ratings_df = pd.read_csv('dataset/ratings_user.csv')\n",
    "ratings_df.head()"
   ]
  },
  {
   "cell_type": "code",
   "execution_count": 7,
   "id": "9cd21836",
   "metadata": {},
   "outputs": [
    {
     "name": "stdout",
     "output_type": "stream",
     "text": [
      "<class 'pandas.core.frame.DataFrame'>\n",
      "RangeIndex: 101478 entries, 0 to 101477\n",
      "Data columns (total 4 columns):\n",
      " #   Column     Non-Null Count   Dtype  \n",
      "---  ------     --------------   -----  \n",
      " 0   userId     101478 non-null  int64  \n",
      " 1   movieId    101478 non-null  int64  \n",
      " 2   rating     101478 non-null  float64\n",
      " 3   timestamp  101478 non-null  int64  \n",
      "dtypes: float64(1), int64(3)\n",
      "memory usage: 3.1 MB\n"
     ]
    }
   ],
   "source": [
    "ratings_df.info()"
   ]
  },
  {
   "cell_type": "markdown",
   "id": "4b208908",
   "metadata": {},
   "source": [
    "\n",
    "The dataset titled <b>ratings.csv</b> encompasses comprehensive information regarding user ratings for a diverse range of movies. This dataset comprises of four distinctive features, namely:\n",
    "\n",
    "<ol>\n",
    "\t<li><b>UserId:</b> This numerical feature serves as a unique identifier for each user within the dataset, facilitating \tthe differentiation of individual users.\n",
    "    </li>\n",
    "    <li>    \n",
    "\t<b>Movie Id:</b> Serving as a numerical identifier, this feature establishes the uniqueness of each movie entry \twithin the dataset. It aids in distinguishing and uniquely identifying individual movies. This is the same feature \t   described in the \"movies\" dataset mentioned above.\n",
    "\t</li>\n",
    "    <li>    \n",
    "\t<b>Rating:</b> Representing a numerical value, this feature uniquely identifies the rating provided by each user    \tfor a specific movie.\n",
    "\t</li>\n",
    "    <li>\n",
    "\t<b>Timestamp:</b> This numerical feature denotes the precise time at which users assigned ratings to movies. \t\tAlthough it provides a temporal reference, it does not contribute significantly to predicting movies based on the \t  chosen movie itself. Hence, this feature will consequently be removed during the <b>Data Cleaning and Preprocessing phase</b>.\n",
    "\t</li>\n",
    "</ol>    \n",
    "Each feature in this dataset comprises a total of <b>100836</b> records, ensuring a complete and comprehensive dataset with no instances of missing or null values."
   ]
  },
  {
   "cell_type": "code",
   "execution_count": 8,
   "id": "4d9de683",
   "metadata": {},
   "outputs": [
    {
     "data": {
      "text/plain": [
       "userId         621\n",
       "movieId       9724\n",
       "rating          10\n",
       "timestamp    85044\n",
       "dtype: int64"
      ]
     },
     "execution_count": 8,
     "metadata": {},
     "output_type": "execute_result"
    }
   ],
   "source": [
    "ratings_df.nunique()"
   ]
  },
  {
   "cell_type": "markdown",
   "id": "d5c7b112",
   "metadata": {},
   "source": [
    "## Dataset Cleaning and Preprocessing"
   ]
  },
  {
   "cell_type": "markdown",
   "id": "12263f70",
   "metadata": {},
   "source": [
    "### Checking for duplicate titles from the movies dataset"
   ]
  },
  {
   "cell_type": "code",
   "execution_count": 9,
   "id": "841afdb4",
   "metadata": {},
   "outputs": [
    {
     "data": {
      "text/html": [
       "<div>\n",
       "<style scoped>\n",
       "    .dataframe tbody tr th:only-of-type {\n",
       "        vertical-align: middle;\n",
       "    }\n",
       "\n",
       "    .dataframe tbody tr th {\n",
       "        vertical-align: top;\n",
       "    }\n",
       "\n",
       "    .dataframe thead th {\n",
       "        text-align: right;\n",
       "    }\n",
       "</style>\n",
       "<table border=\"1\" class=\"dataframe\">\n",
       "  <thead>\n",
       "    <tr style=\"text-align: right;\">\n",
       "      <th></th>\n",
       "      <th>movieId</th>\n",
       "      <th>title</th>\n",
       "      <th>genres</th>\n",
       "    </tr>\n",
       "  </thead>\n",
       "  <tbody>\n",
       "    <tr>\n",
       "      <th>650</th>\n",
       "      <td>838</td>\n",
       "      <td>Emma (1996)</td>\n",
       "      <td>Comedy|Drama|Romance</td>\n",
       "    </tr>\n",
       "    <tr>\n",
       "      <th>2141</th>\n",
       "      <td>2851</td>\n",
       "      <td>Saturn 3 (1980)</td>\n",
       "      <td>Adventure|Sci-Fi|Thriller</td>\n",
       "    </tr>\n",
       "    <tr>\n",
       "      <th>4169</th>\n",
       "      <td>6003</td>\n",
       "      <td>Confessions of a Dangerous Mind (2002)</td>\n",
       "      <td>Comedy|Crime|Drama|Thriller</td>\n",
       "    </tr>\n",
       "    <tr>\n",
       "      <th>5601</th>\n",
       "      <td>26958</td>\n",
       "      <td>Emma (1996)</td>\n",
       "      <td>Romance</td>\n",
       "    </tr>\n",
       "    <tr>\n",
       "      <th>5854</th>\n",
       "      <td>32600</td>\n",
       "      <td>Eros (2004)</td>\n",
       "      <td>Drama</td>\n",
       "    </tr>\n",
       "    <tr>\n",
       "      <th>5931</th>\n",
       "      <td>34048</td>\n",
       "      <td>War of the Worlds (2005)</td>\n",
       "      <td>Action|Adventure|Sci-Fi|Thriller</td>\n",
       "    </tr>\n",
       "    <tr>\n",
       "      <th>6932</th>\n",
       "      <td>64997</td>\n",
       "      <td>War of the Worlds (2005)</td>\n",
       "      <td>Action|Sci-Fi</td>\n",
       "    </tr>\n",
       "    <tr>\n",
       "      <th>9106</th>\n",
       "      <td>144606</td>\n",
       "      <td>Confessions of a Dangerous Mind (2002)</td>\n",
       "      <td>Comedy|Crime|Drama|Romance|Thriller</td>\n",
       "    </tr>\n",
       "    <tr>\n",
       "      <th>9135</th>\n",
       "      <td>147002</td>\n",
       "      <td>Eros (2004)</td>\n",
       "      <td>Drama|Romance</td>\n",
       "    </tr>\n",
       "    <tr>\n",
       "      <th>9468</th>\n",
       "      <td>168358</td>\n",
       "      <td>Saturn 3 (1980)</td>\n",
       "      <td>Sci-Fi|Thriller</td>\n",
       "    </tr>\n",
       "  </tbody>\n",
       "</table>\n",
       "</div>"
      ],
      "text/plain": [
       "      movieId                                   title  \\\n",
       "650       838                             Emma (1996)   \n",
       "2141     2851                         Saturn 3 (1980)   \n",
       "4169     6003  Confessions of a Dangerous Mind (2002)   \n",
       "5601    26958                             Emma (1996)   \n",
       "5854    32600                             Eros (2004)   \n",
       "5931    34048                War of the Worlds (2005)   \n",
       "6932    64997                War of the Worlds (2005)   \n",
       "9106   144606  Confessions of a Dangerous Mind (2002)   \n",
       "9135   147002                             Eros (2004)   \n",
       "9468   168358                         Saturn 3 (1980)   \n",
       "\n",
       "                                   genres  \n",
       "650                  Comedy|Drama|Romance  \n",
       "2141            Adventure|Sci-Fi|Thriller  \n",
       "4169          Comedy|Crime|Drama|Thriller  \n",
       "5601                              Romance  \n",
       "5854                                Drama  \n",
       "5931     Action|Adventure|Sci-Fi|Thriller  \n",
       "6932                        Action|Sci-Fi  \n",
       "9106  Comedy|Crime|Drama|Romance|Thriller  \n",
       "9135                        Drama|Romance  \n",
       "9468                      Sci-Fi|Thriller  "
      ]
     },
     "execution_count": 9,
     "metadata": {},
     "output_type": "execute_result"
    }
   ],
   "source": [
    "# Getting the duplicate titles from the movies dataset\n",
    "duplicate_titles = movies_df[movies_df.duplicated(['title'],\n",
    "                                                  keep = False)]\n",
    "duplicate_titles"
   ]
  },
  {
   "cell_type": "code",
   "execution_count": 10,
   "id": "040b91f1",
   "metadata": {},
   "outputs": [
    {
     "data": {
      "text/html": [
       "<div>\n",
       "<style scoped>\n",
       "    .dataframe tbody tr th:only-of-type {\n",
       "        vertical-align: middle;\n",
       "    }\n",
       "\n",
       "    .dataframe tbody tr th {\n",
       "        vertical-align: top;\n",
       "    }\n",
       "\n",
       "    .dataframe thead th {\n",
       "        text-align: right;\n",
       "    }\n",
       "</style>\n",
       "<table border=\"1\" class=\"dataframe\">\n",
       "  <thead>\n",
       "    <tr style=\"text-align: right;\">\n",
       "      <th></th>\n",
       "      <th>movieId</th>\n",
       "      <th>title</th>\n",
       "      <th>genres</th>\n",
       "      <th>genre_count</th>\n",
       "    </tr>\n",
       "  </thead>\n",
       "  <tbody>\n",
       "    <tr>\n",
       "      <th>8600</th>\n",
       "      <td>117867</td>\n",
       "      <td>'71 (2014)</td>\n",
       "      <td>Action|Drama|Thriller|War</td>\n",
       "      <td>4</td>\n",
       "    </tr>\n",
       "    <tr>\n",
       "      <th>8014</th>\n",
       "      <td>97757</td>\n",
       "      <td>'Hellboy': The Seeds of Creation (2004)</td>\n",
       "      <td>Action|Adventure|Comedy|Documentary|Fantasy</td>\n",
       "      <td>5</td>\n",
       "    </tr>\n",
       "    <tr>\n",
       "      <th>5528</th>\n",
       "      <td>26564</td>\n",
       "      <td>'Round Midnight (1986)</td>\n",
       "      <td>Drama|Musical</td>\n",
       "      <td>2</td>\n",
       "    </tr>\n",
       "    <tr>\n",
       "      <th>5690</th>\n",
       "      <td>27751</td>\n",
       "      <td>'Salem's Lot (2004)</td>\n",
       "      <td>Drama|Horror|Mystery|Thriller</td>\n",
       "      <td>4</td>\n",
       "    </tr>\n",
       "    <tr>\n",
       "      <th>614</th>\n",
       "      <td>779</td>\n",
       "      <td>'Til There Was You (1997)</td>\n",
       "      <td>Drama|Romance</td>\n",
       "      <td>2</td>\n",
       "    </tr>\n",
       "  </tbody>\n",
       "</table>\n",
       "</div>"
      ],
      "text/plain": [
       "      movieId                                    title  \\\n",
       "8600   117867                               '71 (2014)   \n",
       "8014    97757  'Hellboy': The Seeds of Creation (2004)   \n",
       "5528    26564                   'Round Midnight (1986)   \n",
       "5690    27751                      'Salem's Lot (2004)   \n",
       "614       779                'Til There Was You (1997)   \n",
       "\n",
       "                                           genres  genre_count  \n",
       "8600                    Action|Drama|Thriller|War            4  \n",
       "8014  Action|Adventure|Comedy|Documentary|Fantasy            5  \n",
       "5528                                Drama|Musical            2  \n",
       "5690                Drama|Horror|Mystery|Thriller            4  \n",
       "614                                 Drama|Romance            2  "
      ]
     },
     "execution_count": 10,
     "metadata": {},
     "output_type": "execute_result"
    }
   ],
   "source": [
    "# Creating a new column called genre_count to store the count of genres\n",
    "movies_df['genre_count'] = movies_df['genres'].apply(lambda x: len(x.split('|')))\n",
    "\n",
    "# Sorting the dataframe based on the title and genre_count columns in descending order\n",
    "movies_df = movies_df.sort_values(['title', 'genre_count'],\n",
    "                                  ascending = [True, False])\n",
    "\n",
    "# Dropping the duplicates: keeping the first occurrence which, after sorting, will be the one with more genres\n",
    "movies_clean = movies_df.drop_duplicates(subset = 'title',\n",
    "                                         keep = 'first')\n",
    "movies_clean.head()"
   ]
  },
  {
   "cell_type": "code",
   "execution_count": 11,
   "id": "6d2e8cb3",
   "metadata": {},
   "outputs": [
    {
     "data": {
      "text/html": [
       "<div>\n",
       "<style scoped>\n",
       "    .dataframe tbody tr th:only-of-type {\n",
       "        vertical-align: middle;\n",
       "    }\n",
       "\n",
       "    .dataframe tbody tr th {\n",
       "        vertical-align: top;\n",
       "    }\n",
       "\n",
       "    .dataframe thead th {\n",
       "        text-align: right;\n",
       "    }\n",
       "</style>\n",
       "<table border=\"1\" class=\"dataframe\">\n",
       "  <thead>\n",
       "    <tr style=\"text-align: right;\">\n",
       "      <th></th>\n",
       "      <th>movieId</th>\n",
       "      <th>title</th>\n",
       "      <th>genres</th>\n",
       "      <th>genre_count</th>\n",
       "    </tr>\n",
       "  </thead>\n",
       "  <tbody>\n",
       "  </tbody>\n",
       "</table>\n",
       "</div>"
      ],
      "text/plain": [
       "Empty DataFrame\n",
       "Columns: [movieId, title, genres, genre_count]\n",
       "Index: []"
      ]
     },
     "execution_count": 11,
     "metadata": {},
     "output_type": "execute_result"
    }
   ],
   "source": [
    "# Ensuring there are no more duplicate titles\n",
    "duplicate_titles_2 = movies_clean[movies_clean.duplicated(['title'],\n",
    "                                                          keep = False)]\n",
    "duplicate_titles_2"
   ]
  },
  {
   "cell_type": "code",
   "execution_count": 12,
   "id": "66c49951",
   "metadata": {},
   "outputs": [
    {
     "name": "stdout",
     "output_type": "stream",
     "text": [
      "movieId                                  title Found in movies_clean\n",
      "    838                            Emma (1996)                   Yes\n",
      "   2851                        Saturn 3 (1980)                   Yes\n",
      "   6003                         no movie found                    No\n",
      "  26958                         no movie found                    No\n",
      "  32600                         no movie found                    No\n",
      "  34048               War of the Worlds (2005)                   Yes\n",
      "  64997                         no movie found                    No\n",
      " 144606 Confessions of a Dangerous Mind (2002)                   Yes\n",
      " 147002                            Eros (2004)                   Yes\n",
      " 168358                         no movie found                    No\n"
     ]
    }
   ],
   "source": [
    "# Validating that the correct records have been deleted\n",
    "\n",
    "# Defining the list of movieIds\n",
    "movie_ids_to_check = [838,\n",
    "                      2851,\n",
    "                      6003,\n",
    "                      26958,\n",
    "                      32600,\n",
    "                      34048,\n",
    "                      64997,\n",
    "                      144606,\n",
    "                      147002,\n",
    "                      168358]\n",
    "\n",
    "# Filtering the movies_clean dataframe for the specified movieIds\n",
    "check_in_movies_clean = movies_clean[movies_clean['movieId'].isin(movie_ids_to_check)].copy()\n",
    "\n",
    "# Creating a DataFrame to store the results\n",
    "is_in_movies_clean = pd.DataFrame(columns =['movieId',\n",
    "                                           'title',\n",
    "                                           'Found in movies_clean'])\n",
    "\n",
    "# Iterating over each movieId and checking if it is present in the movies_clean dataset\n",
    "for movie_id in movie_ids_to_check:\n",
    "    if movie_id in check_in_movies_clean['movieId'].values:\n",
    "        movie = check_in_movies_clean[check_in_movies_clean['movieId'] == movie_id]\n",
    "        title = movie['title'].values[0]\n",
    "        result = pd.DataFrame({'movieId': [movie_id],\n",
    "                               'title': [title],\n",
    "                               'Found in movies_clean': 'Yes'})\n",
    "    else:\n",
    "        result = pd.DataFrame({'movieId': [movie_id],\n",
    "                               'title': ['no movie found'],\n",
    "                               'Found in movies_clean': 'No'})\n",
    "        \n",
    "    is_in_movies_clean = pd.concat([is_in_movies_clean, result],\n",
    "                                   ignore_index = True)\n",
    "\n",
    "# Displaying the results\n",
    "print(is_in_movies_clean.to_string(index=False))"
   ]
  },
  {
   "cell_type": "markdown",
   "id": "c78b1145",
   "metadata": {},
   "source": [
    "Upon examining the results above, it becomes evident that the duplicate movie titles within the dataset correspond to the same year of release. Further personal inspection revealed that these duplicates indeed refer to same movie.  Additionally, a noteworthy pattern emerges where the duplicates with fewer genres consistently have those genres present in the duplicates with the greater number of genres. For instance, the movie <b>Emma</b> with a <b>movieId of 26958</b> is associated with the genre <b>Romance</b>, while its duplicate with <b>movieId 838</b> includes the genres <b>Comedy, Drama, and Romance.</b> This pattern persists across all duplicate pairs, leading to the decision to retain only the duplicate records containing more genre classifications. \n",
    "\n",
    "The chosen approach offers several advantages. By retaining duplicates with a higher count of genre classifications, a more comprehensive representation of each movie's thematic content is achieved. This enhanced level of genre information greatly improves the functionality and performance of the recommendation system. It enables more precise genre-based filtering, resulting in nuanced recommendations that cater to diverse user preferences and contextual variations. Furthermore, the inclusion of additional genre labels ensures a more accurate portrayal of a movie's characteristics, as different genres have the potential to appeal to distinct audiences and create unique viewing experiences.\n",
    "\n",
    "While recognizing the assumptions and potential biases inherent in this approach, it stands as a logical and practical solution with the available information. Retaining duplicates with a greater number of genre values ensures a more informative dataset for subsequent analyses, optimizing the effectiveness of the recommendation system. This approach remains adaptable to accommodate new insights or adjustments if necessary."
   ]
  },
  {
   "cell_type": "markdown",
   "id": "a4a6317f",
   "metadata": {},
   "source": [
    "### Removing the duplicate titles that were removed from the movies dataset in the ratings dataset"
   ]
  },
  {
   "cell_type": "code",
   "execution_count": 13,
   "id": "359d67b8",
   "metadata": {},
   "outputs": [],
   "source": [
    "# Getting a list of movieIds from the cleaned movies dataframe\n",
    "movie_ids = movies_clean['movieId'].unique()\n",
    "\n",
    "# Keeping only the rows in the ratings dataframe where movieId is in the list\n",
    "# of movieIds from the cleaned movies dataframe\n",
    "ratings_clean = ratings_df[ratings_df['movieId'].isin(movie_ids)]"
   ]
  },
  {
   "cell_type": "code",
   "execution_count": 14,
   "id": "532a7d20",
   "metadata": {},
   "outputs": [
    {
     "data": {
      "text/plain": [
       "userId         621\n",
       "movieId       9719\n",
       "rating          10\n",
       "timestamp    85024\n",
       "dtype: int64"
      ]
     },
     "execution_count": 14,
     "metadata": {},
     "output_type": "execute_result"
    }
   ],
   "source": [
    "ratings_clean.nunique()"
   ]
  },
  {
   "cell_type": "code",
   "execution_count": 15,
   "id": "4a3dc774",
   "metadata": {},
   "outputs": [
    {
     "name": "stdout",
     "output_type": "stream",
     "text": [
      "movieId Found in ratings_clean\n",
      "    838                    Yes\n",
      "   2851                    Yes\n",
      "   6003                     No\n",
      "  26958                     No\n",
      "  32600                     No\n",
      "  34048                    Yes\n",
      "  64997                     No\n",
      " 144606                    Yes\n",
      " 147002                    Yes\n",
      " 168358                     No\n"
     ]
    }
   ],
   "source": [
    "# Validating that the records have also been deleted from the ratings dataframe\n",
    "\n",
    "# Filtering the ratings_clean dataframe for the specified movieIds\n",
    "check_in_ratings_clean = ratings_clean[ratings_clean['movieId'].isin(movie_ids_to_check)].copy()\n",
    "\n",
    "# Creating a DataFrame to store the results\n",
    "is_in_ratings_clean = pd.DataFrame(columns = ['movieId',\n",
    "                                            'Found in ratings_clean'])\n",
    "\n",
    "# Iterating over each movieId and checking if it is present in the ratings_clean dataset\n",
    "for movie_id in movie_ids_to_check:\n",
    "    if movie_id in check_in_ratings_clean['movieId'].values:\n",
    "        result = pd.DataFrame({'movieId': [movie_id],\n",
    "                               'Found in ratings_clean': 'Yes'})\n",
    "    else:\n",
    "        result = pd.DataFrame({'movieId': [movie_id],\n",
    "                               'Found in ratings_clean': 'No'})\n",
    "    is_in_ratings_clean = pd.concat([is_in_ratings_clean, result],\n",
    "                                    ignore_index = True)\n",
    "\n",
    "# Displaying the results\n",
    "print(is_in_ratings_clean.to_string(index=False))"
   ]
  },
  {
   "cell_type": "markdown",
   "id": "21a02eae",
   "metadata": {},
   "source": [
    "The results above confirm the successful removal of the 5 titles from the <b>ratings dataset</b>. This outcome aligns with the previous identification of 5 duplicate values that have been appropriately eliminated from the <b>movies dataset</b>."
   ]
  },
  {
   "cell_type": "markdown",
   "id": "bf33626d",
   "metadata": {},
   "source": [
    "### Getting the number of unique genres after deleting duplicate titles"
   ]
  },
  {
   "cell_type": "code",
   "execution_count": 16,
   "id": "313a6d32",
   "metadata": {},
   "outputs": [
    {
     "data": {
      "text/plain": [
       "951"
      ]
     },
     "execution_count": 16,
     "metadata": {},
     "output_type": "execute_result"
    }
   ],
   "source": [
    "movies_clean['genres'].nunique()"
   ]
  },
  {
   "cell_type": "markdown",
   "id": "4f4006c2",
   "metadata": {},
   "source": [
    "Despite the reduction in the number of movies, the fact that the number of unique genres remains unchanged ensures that the genre classification is consistent and reliable, contributing to the overall quality of the dataset."
   ]
  },
  {
   "cell_type": "markdown",
   "id": "6ca3ebc6",
   "metadata": {},
   "source": [
    "### Removing the timestamp column from the ratings_clean dataframe"
   ]
  },
  {
   "cell_type": "code",
   "execution_count": 17,
   "id": "13f66f59",
   "metadata": {},
   "outputs": [
    {
     "data": {
      "text/html": [
       "<div>\n",
       "<style scoped>\n",
       "    .dataframe tbody tr th:only-of-type {\n",
       "        vertical-align: middle;\n",
       "    }\n",
       "\n",
       "    .dataframe tbody tr th {\n",
       "        vertical-align: top;\n",
       "    }\n",
       "\n",
       "    .dataframe thead th {\n",
       "        text-align: right;\n",
       "    }\n",
       "</style>\n",
       "<table border=\"1\" class=\"dataframe\">\n",
       "  <thead>\n",
       "    <tr style=\"text-align: right;\">\n",
       "      <th></th>\n",
       "      <th>userId</th>\n",
       "      <th>movieId</th>\n",
       "      <th>rating</th>\n",
       "    </tr>\n",
       "  </thead>\n",
       "  <tbody>\n",
       "    <tr>\n",
       "      <th>0</th>\n",
       "      <td>1</td>\n",
       "      <td>1</td>\n",
       "      <td>4.0</td>\n",
       "    </tr>\n",
       "    <tr>\n",
       "      <th>1</th>\n",
       "      <td>1</td>\n",
       "      <td>3</td>\n",
       "      <td>4.0</td>\n",
       "    </tr>\n",
       "    <tr>\n",
       "      <th>2</th>\n",
       "      <td>1</td>\n",
       "      <td>6</td>\n",
       "      <td>4.0</td>\n",
       "    </tr>\n",
       "    <tr>\n",
       "      <th>3</th>\n",
       "      <td>1</td>\n",
       "      <td>47</td>\n",
       "      <td>5.0</td>\n",
       "    </tr>\n",
       "    <tr>\n",
       "      <th>4</th>\n",
       "      <td>1</td>\n",
       "      <td>50</td>\n",
       "      <td>5.0</td>\n",
       "    </tr>\n",
       "  </tbody>\n",
       "</table>\n",
       "</div>"
      ],
      "text/plain": [
       "   userId  movieId  rating\n",
       "0       1        1     4.0\n",
       "1       1        3     4.0\n",
       "2       1        6     4.0\n",
       "3       1       47     5.0\n",
       "4       1       50     5.0"
      ]
     },
     "execution_count": 17,
     "metadata": {},
     "output_type": "execute_result"
    }
   ],
   "source": [
    "ratings_final = ratings_clean.drop(['timestamp'],\n",
    "                                   axis = 1)\n",
    "ratings_final.head()"
   ]
  },
  {
   "cell_type": "markdown",
   "id": "5a16a01d",
   "metadata": {},
   "source": [
    "## Exploratory Data Analysis"
   ]
  },
  {
   "cell_type": "markdown",
   "id": "7ecbf31c",
   "metadata": {},
   "source": [
    "### Distribution of Density of Ratings"
   ]
  },
  {
   "cell_type": "code",
   "execution_count": 18,
   "id": "a95cf079",
   "metadata": {},
   "outputs": [
    {
     "data": {
      "image/png": "[encoded data removed]",
      "text/plain": [
       "<Figure size 1000x500 with 1 Axes>"
      ]
     },
     "metadata": {},
     "output_type": "display_data"
    }
   ],
   "source": [
    "# Colors referenced from: matplotlib, \"color example code: named_colors.py\", 2023.[Online]\n",
    "# Available at: https://matplotlib.org/2.0.2/examples/color/named_colors.html [Accessed 3rd July 2023]\n",
    "\n",
    "plt.figure(figsize=(10, 5))\n",
    "\n",
    "sns.histplot(ratings_final['rating'],\n",
    "             bins = 20,\n",
    "             color = 'dodgerblue',\n",
    "             kde = True)\n",
    "plt.title('Distribution of Density of Ratings')\n",
    "plt.xlabel('Rating')\n",
    "plt.ylabel('Count')\n",
    "plt.show()"
   ]
  },
  {
   "cell_type": "markdown",
   "id": "f02607f0",
   "metadata": {},
   "source": [
    "The distribution of ratings is left-skewed, with a peak at 4. This suggests that users tend to give higher ratings. A significant proportion of movies have been rated <b>3 or 4</b>, indicating a tendency towards positive ratings."
   ]
  },
  {
   "cell_type": "markdown",
   "id": "25c920df",
   "metadata": {},
   "source": [
    "### Number of ratings per user"
   ]
  },
  {
   "cell_type": "code",
   "execution_count": 19,
   "id": "83ae78c3",
   "metadata": {},
   "outputs": [
    {
     "data": {
      "image/png": "[encoded data removed]",
      "text/plain": [
       "<Figure size 1000x500 with 1 Axes>"
      ]
     },
     "metadata": {},
     "output_type": "display_data"
    }
   ],
   "source": [
    "# Colors referenced from: matplotlib, \"color example code: named_colors.py\", 2023.[Online]\n",
    "# Available at: https://matplotlib.org/2.0.2/examples/color/named_colors.html [Accessed 3rd July 2023]\n",
    "\n",
    "user_count = ratings_final['userId'].value_counts()\n",
    "\n",
    "plt.figure(figsize=(10, 5))\n",
    "sns.histplot(user_count,\n",
    "             bins = 10,\n",
    "             color = \"teal\")\n",
    "plt.title('Number of Ratings per User')\n",
    "plt.xlabel('Number of Ratings')\n",
    "plt.ylabel('Number of Users')\n",
    "plt.show()"
   ]
  },
  {
   "cell_type": "markdown",
   "id": "efcc08fe",
   "metadata": {},
   "source": [
    "The distribution of ratings per user is heavily right-skewed, indicating that most users have rated only a few movies, while a small number of users have rated a large number of movies."
   ]
  },
  {
   "cell_type": "markdown",
   "id": "cd3c2632",
   "metadata": {},
   "source": [
    "### Number of ratings per movie"
   ]
  },
  {
   "cell_type": "code",
   "execution_count": 20,
   "id": "1082fdbe",
   "metadata": {},
   "outputs": [
    {
     "data": {
      "image/png": "[encoded data removed]",
      "text/plain": [
       "<Figure size 1000x500 with 1 Axes>"
      ]
     },
     "metadata": {},
     "output_type": "display_data"
    }
   ],
   "source": [
    "# Colors referenced from: matplotlib, \"color example code: named_colors.py\", 2023.[Online]\n",
    "# Available at: https://matplotlib.org/2.0.2/examples/color/named_colors.html [Accessed 3rd July 2023]\n",
    "\n",
    "movie_count = ratings_final['movieId'].value_counts()\n",
    "\n",
    "plt.figure(figsize=(10, 5))\n",
    "sns.histplot(movie_count,\n",
    "             bins = 10,\n",
    "             color = 'mediumturquoise')\n",
    "plt.title('Number of Ratings per Movie')\n",
    "plt.xlabel('Number of Ratings')\n",
    "plt.ylabel('Number of Users')\n",
    "plt.show()"
   ]
  },
  {
   "cell_type": "markdown",
   "id": "40868d1b",
   "metadata": {},
   "source": [
    "Similar to user behavior, most movies receive fewer ratings, while a few popular ones get a larger number of ratings. This indicates that the recommendation system needs to handle both popular and less popular movies."
   ]
  },
  {
   "cell_type": "markdown",
   "id": "043890e2",
   "metadata": {},
   "source": [
    "### Top 10 Users that have given the most ratings"
   ]
  },
  {
   "cell_type": "code",
   "execution_count": 21,
   "id": "66f0b5a1",
   "metadata": {},
   "outputs": [
    {
     "data": {
      "image/png": "[encoded data removed]",
      "text/plain": [
       "<Figure size 1000x500 with 1 Axes>"
      ]
     },
     "metadata": {},
     "output_type": "display_data"
    }
   ],
   "source": [
    "# Palettes referenced from: seaborn, \"Choosing color palettes\", 2023.[Online]\n",
    "# Available at: https://seaborn.pydata.org/tutorial/color_palettes.html#perceptually-uniform-palettes \n",
    "# [Accessed 3rd July 2023]\n",
    "\n",
    "top_users = user_count[:10].sort_values(ascending=False)  \n",
    "\n",
    "plt.figure(figsize=(10, 5))\n",
    "sns.barplot(x = top_users.index,\n",
    "            y = top_users.values,\n",
    "            order = top_users.index,\n",
    "            palette= \"crest\",\n",
    "            edgecolor='black')\n",
    "plt.title('Top 10 Users that have given the most ratings')\n",
    "plt.xlabel('User ID')\n",
    "plt.ylabel('Number of Ratings')\n",
    "plt.xticks(rotation=90)\n",
    "plt.show()"
   ]
  },
  {
   "cell_type": "markdown",
   "id": "048ef84b",
   "metadata": {},
   "source": [
    "The above bar chart helps to understand the distribution of user activity."
   ]
  },
  {
   "cell_type": "markdown",
   "id": "3a5f11b3",
   "metadata": {},
   "source": [
    "### Top 10 Movies that have been rated the most"
   ]
  },
  {
   "cell_type": "code",
   "execution_count": 22,
   "id": "b1c81b33",
   "metadata": {},
   "outputs": [
    {
     "data": {
      "image/png": "[encoded data removed]",
      "text/plain": [
       "<Figure size 1000x500 with 1 Axes>"
      ]
     },
     "metadata": {},
     "output_type": "display_data"
    }
   ],
   "source": [
    "# Palettes referenced from: seaborn, \"Choosing color palettes\", 2023.[Online]\n",
    "# Available at: https://seaborn.pydata.org/tutorial/color_palettes.html#perceptually-uniform-palettes \n",
    "# [Accessed 3rd July 2023]\n",
    "\n",
    "top_movies = movie_count[:10].sort_values(ascending=False)  # sort in descending order\n",
    "\n",
    "plt.figure(figsize=(10,\n",
    "                    5))\n",
    "sns.barplot(x=top_movies.index,\n",
    "            y=top_movies.values,\n",
    "            order = top_movies.index,\n",
    "            palette= \"crest_r\",\n",
    "            edgecolor='black')\n",
    "plt.title('Top 10 Movies that have been rated the most')\n",
    "plt.xlabel('Movie ID')\n",
    "plt.ylabel('Number of Ratings')\n",
    "plt.xticks(rotation=90)\n",
    "plt.show()"
   ]
  },
  {
   "cell_type": "markdown",
   "id": "321d12eb",
   "metadata": {},
   "source": [
    "The above bar chart shows the 10 movies that have received the most ratings. These are the most popular or well-known movies in the dataset."
   ]
  },
  {
   "cell_type": "markdown",
   "id": "c62e1973",
   "metadata": {},
   "source": [
    "## Building the baseline model - SVD (Singular Value Decomposition)"
   ]
  },
  {
   "cell_type": "markdown",
   "id": "9b75c40b",
   "metadata": {},
   "source": [
    "### Predicting the ratings for Movies that have not been rated by users"
   ]
  },
  {
   "cell_type": "code",
   "execution_count": 23,
   "id": "b7bea17a",
   "metadata": {},
   "outputs": [
    {
     "name": "stdout",
     "output_type": "stream",
     "text": [
      "SVD Training set MAE: 0.4951751211489701\n",
      "SVD Training set RMSE: 0.6375555139132104\n",
      "SVD Test set MAE: 0.6746624854103537\n",
      "SVD Test set RMSE: 0.8763133310609047\n"
     ]
    }
   ],
   "source": [
    "# Referenced from: surprise, \"A Python scikit for recommender systems.\", 2023.[Online]\n",
    "# Available at: https://surpriselib.com/ [Accessed 3rd July 2023]\n",
    "\n",
    "# Creating a reader object with the rating scale\n",
    "reader = Reader(rating_scale=(0.5, 5))\n",
    "\n",
    "# Loading the data from the ratings_final DataFrame using the reader\n",
    "data = Dataset.load_from_df(ratings_final[['userId', 'movieId', 'rating']], reader)\n",
    "\n",
    "# Splitting the data into training and test sets\n",
    "train_set, test_set = train_test_split(data, test_size=0.2, random_state=33)\n",
    "\n",
    "# Training the model on the training set\n",
    "svd = SVD()\n",
    "svd.fit(train_set)\n",
    "\n",
    "# Evaluating the model on the training set\n",
    "train_predictions = svd.test(train_set.build_testset())\n",
    "train_mae = accuracy.mae(train_predictions,\n",
    "                         verbose=False)\n",
    "train_rmse = accuracy.rmse(train_predictions,\n",
    "                           verbose=False)\n",
    "\n",
    "print(\"SVD Training set MAE:\", train_mae)\n",
    "print(\"SVD Training set RMSE:\", train_rmse)\n",
    "\n",
    "# Evaluating the model on the test set\n",
    "test_predictions = svd.test(test_set)\n",
    "test_mae = accuracy.mae(test_predictions,\n",
    "                        verbose=False)\n",
    "test_rmse = accuracy.rmse(test_predictions,\n",
    "                          verbose=False)\n",
    "\n",
    "print(\"SVD Test set MAE:\",\n",
    "      test_mae)\n",
    "print(\"SVD Test set RMSE:\",\n",
    "      test_rmse)"
   ]
  },
  {
   "cell_type": "markdown",
   "id": "0a2e8ce0",
   "metadata": {},
   "source": [
    "The purpose of a baseline model is to establish a benchmark for performance evaluation and provide a point of reference for more complex models. It serves as a starting point in understanding the dataset and assessing the effectiveness of different modeling approaches.\n",
    "\n",
    "The SVD (Singular Value Decomposition) model was chosen as the baseline model for this project. The selection of SVD as the baseline model is a suitable choice because it strikes a balance between simplicity and effectiveness.  It goes beyond the straightforward popularity-based approach by incorporating latent factors and capturing underlying patterns in user-item interactions. This allows for a gradual exploration of more complex techniques while establishing a strong foundation for further modeling improvements.\n",
    "\n",
    "The achieved MAE and RMSE scores of the SVD model for both the training and test sets indicate reasonable accuracy in predicting movie ratings. Although further analysis and comparison with other models are required, these results demonstrate the model's ability to capture meaningful patterns in the data and provide meaningful predictions. \n",
    "\n",
    "Overall, using SVD as the baseline model provides a good reference point for the following complex models.\n",
    "\n",
    "<b>References:</b>\n",
    "1) Sheludko A , \"Evaluation of recommender systems (metrics and baseline models)\", 2023.[Online].<br>\n",
    "Available: https://www.the-odd-dataguy.com/2021/09/01/recsys-evaluation/"
   ]
  },
  {
   "cell_type": "markdown",
   "id": "5cc8bb3d",
   "metadata": {},
   "source": [
    "### Recommending movie titles to users using the SVD model"
   ]
  },
  {
   "cell_type": "code",
   "execution_count": 24,
   "id": "e0e5837e-bd23-4748-911d-0b38eef19d7f",
   "metadata": {},
   "outputs": [],
   "source": [
    "def get_actual_ratings(user_id, ratings_final):\n",
    "    actual_ratings = ratings_final[ratings_final['userId'] == user_id][['movieId', 'rating']].values.tolist()\n",
    "    return actual_ratings"
   ]
  },
  {
   "cell_type": "code",
   "execution_count": 25,
   "id": "510603fc-77a6-4c1d-bdf1-36c5e288c141",
   "metadata": {},
   "outputs": [],
   "source": [
    "def get_predicted_ratings(user_id, svd_model, movies_data):\n",
    "    predicted_ratings = []\n",
    "    for movie_id in movies_data['movieId']:\n",
    "        predicted_rating = svd_model.predict(user_id, movie_id).est\n",
    "        predicted_ratings.append((movie_id, predicted_rating))\n",
    "    return predicted_ratings"
   ]
  },
  {
   "cell_type": "code",
   "execution_count": 26,
   "id": "7c92dcdc-fc23-495f-82f6-5e1a991e0c08",
   "metadata": {},
   "outputs": [],
   "source": [
    "def build_user_profile(user_id, ratings_final, movies_clean):\n",
    "    user_ratings = ratings_final[ratings_final['userId'] == user_id]\n",
    "    user_data = user_ratings.merge(movies_clean, on='movieId')\n",
    "    user_data['genres'] = user_data['genres'].str.split('|')\n",
    "    user_data = user_data.explode('genres')\n",
    "    genre_profile = user_data.groupby('genres')['rating'].mean().to_dict()\n",
    "    return genre_profile"
   ]
  },
  {
   "cell_type": "code",
   "execution_count": 27,
   "id": "a910219a-5990-4912-83ad-a8b6aff07863",
   "metadata": {},
   "outputs": [],
   "source": [
    "# Creating a function to calculate precision@k\n",
    "def precision_at_k(predicted_ratings, actual_ratings, genre_profile, k, threshold=4.5):\n",
    "    top_k_movie_ids = [pred[0] for pred in predicted_ratings[:k]]\n",
    "    # ground_truth_ratings = {movie_id: rating for movie_id, rating in actual_ratings}\n",
    "    ground_truth_ratings = actual_ratings\n",
    "    num_relevant_items = sum(1 for movie_id in top_k_movie_ids if (ground_truth_ratings.get(movie_id, 0) > threshold) or any(genre_profile.get(genre, 0) > threshold for genre in movies_clean.loc[movies_clean['movieId'] == movie_id, 'genres'].values[0].split('|')))\n",
    "    precision = num_relevant_items / k\n",
    "    return precision"
   ]
  },
  {
   "cell_type": "code",
   "execution_count": 28,
   "id": "4b114005-0a27-4552-8793-8496612cd0f4",
   "metadata": {},
   "outputs": [],
   "source": [
    "def recall_at_k(predicted_ratings, actual_ratings, genre_profile, k, threshold=4.5):\n",
    "    top_k_movie_ids = [pred[0] for pred in predicted_ratings[:k]]\n",
    "    ground_truth_ratings = {movie_id: rating for movie_id, rating in actual_ratings}\n",
    "    \n",
    "    # Count the number of relevant items among the top-k predictions\n",
    "    num_relevant_items = sum(1 for movie_id in top_k_movie_ids if (ground_truth_ratings.get(movie_id, 0) > threshold) or any(genre_profile.get(genre, 0) > threshold for genre in movies_clean.loc[movies_clean['movieId'] == movie_id, 'genres'].values[0].split('|')))\n",
    "    \n",
    "    # Count the total number of relevant items in the dataset\n",
    "    total_relevant_items = sum(1 for rating in ground_truth_ratings.values() if rating > threshold)\n",
    "\n",
    "    # Calculate Recall@k\n",
    "    recall = num_relevant_items / total_relevant_items if total_relevant_items > 0 else 0.0\n",
    "\n",
    "    return round(recall, 1)  "
   ]
  },
  {
   "cell_type": "code",
   "execution_count": 29,
   "id": "3ddd5186-d72c-4718-a40a-ea1f2d1aa939",
   "metadata": {},
   "outputs": [],
   "source": [
    "def svd_recommend_movies(user_id, svd, ratings_final, n_recommendations, movies_clean):\n",
    "    actual_ratings = get_actual_ratings(user_id, ratings_final)\n",
    "    \n",
    "    # Converting the list of actual ratings to a set for faster lookup\n",
    "    rated_movie_ids = set([movie_id for movie_id, _ in actual_ratings])\n",
    "    \n",
    "    predicted_ratings = get_predicted_ratings(user_id, svd, movies_clean)\n",
    "    \n",
    "    # Building the user profile\n",
    "    genre_profile = build_user_profile(user_id, ratings_final, movies_clean)\n",
    "    \n",
    "    # Filtering out movies the user has already rated from the predicted ratings\n",
    "    predicted_ratings = [(movie_id, rating) for movie_id, rating in predicted_ratings if movie_id not in rated_movie_ids]\n",
    "    \n",
    "    # Sorting the predicted ratings in descending order\n",
    "    predicted_ratings = sorted(predicted_ratings, key=lambda x: x[1], reverse=True)\n",
    "\n",
    "    # Getting the top N recommended movies\n",
    "    recommended_movies = [movies_clean.loc[movies_clean['movieId'] == movie_id] for movie_id, _ in predicted_ratings[:n_recommendations]]\n",
    "\n",
    "    # Getting the actual ratings\n",
    "    actual_ratings_dict = dict(actual_ratings)\n",
    "    \n",
    "    # Calculating precision@k and recall@k\n",
    "    precision_at_k_score = precision_at_k(predicted_ratings, actual_ratings_dict, genre_profile, n_recommendations)\n",
    "    recall_at_k_score = recall_at_k(predicted_ratings, actual_ratings, genre_profile, n_recommendations)\n",
    "    \n",
    "    return recommended_movies, precision_at_k_score, recall_at_k_score\n",
    "\n",
    "user_id = 1\n",
    "n_recommendations = 10\n",
    "recommended_movies, precision_at_k_score, recall_at_k_score = svd_recommend_movies(user_id, svd, ratings_final, n_recommendations, movies_clean)"
   ]
  },
  {
   "cell_type": "code",
   "execution_count": 30,
   "id": "245243ad-d718-407e-88fe-d4c0c841e571",
   "metadata": {},
   "outputs": [
    {
     "name": "stdout",
     "output_type": "stream",
     "text": [
      "Recommended movies for user: 1\n",
      "1 Amadeus (1984) | Genres: Drama\n",
      "2 Casablanca (1942) | Genres: Drama|Romance\n",
      "3 Crazy, Stupid, Love. (2011) | Genres: Comedy|Drama|Romance\n",
      "4 Dark Knight, The (2008) | Genres: Action|Crime|Drama|IMAX\n",
      "5 Dr. Strangelove or: How I Learned to Stop Worrying and Love the Bomb (1964) | Genres: Comedy|War\n",
      "6 Eternal Sunshine of the Spotless Mind (2004) | Genres: Drama|Romance|Sci-Fi\n",
      "7 Fear and Loathing in Las Vegas (1998) | Genres: Adventure|Comedy|Drama\n",
      "8 Glory (1989) | Genres: Drama|War\n",
      "9 Lawrence of Arabia (1962) | Genres: Adventure|Drama|War\n",
      "10 Logan (2017) | Genres: Action|Sci-Fi\n",
      "Precision@10 for user 1: 0.8\n",
      "Recall@10 for user 1: 0.1\n"
     ]
    }
   ],
   "source": [
    "def print_recommended_movies_svd(recommended_movies):\n",
    "    print(\"Recommended movies for user:\", user_id)\n",
    "    for ids, movie in enumerate(recommended_movies, 1):\n",
    "        print(ids, movie['title'].values[0], \"| Genres:\", movie['genres'].values[0])\n",
    "\n",
    "print_recommended_movies_svd(recommended_movies)\n",
    "print(\"Precision@{} for user {}: {:.1f}\".format(n_recommendations, user_id, precision_at_k_score))\n",
    "print(\"Recall@{} for user {}: {:.1f}\".format(n_recommendations, user_id, recall_at_k_score))"
   ]
  },
  {
   "cell_type": "markdown",
   "id": "04224de9-bee7-40d3-adcd-9c16c98e4bfd",
   "metadata": {},
   "source": [
    "The analysis of the output indicates that when suggesting the top 10 movies for user 1 using the SVD model, an impressive 80% of these recommendations align with the user's preferences. In simpler terms, out of the 10 movies proposed, 8 of them are likely to resonate positively with the user. This substantial precision score of 0.8 signifies that the majority of the suggested movies genuinely match the user's taste and interests.\n",
    "\n",
    "On the other hand, the Recall@10 score stands at 0.1, revealing that only 10% of all potentially appealing movies for the user are included within the top 10 recommendations. This might initially appear modest, but considering the context, it's quite reasonable. The Recall metric measures how effectively the top 10 recommendations capture the user's preferences. Given the vast expanse of the dataset, boasting over 9700 movies, expecting all favored movies to be encompassed within just 10 recommendations seems improbable. Hence, a lower recall value here isn't indicative of subpar recommendations.\n",
    "\n",
    "Hence, due to the reasons presented above, the subsequent sections of this notebook will exclusively focus on and evaluate precision@K as the chosen assessment criterion for model performance."
   ]
  },
  {
   "cell_type": "markdown",
   "id": "98ba3e3d",
   "metadata": {},
   "source": [
    "The svd_recommend_movies function is designed to generate personalized movie recommendations for a given user. It operates by identifying all the movies that the user has not yet rated, and then uses the trained SVD model to predict what the user's rating would be for each of these movies. The movies are then sorted in descending order of the predicted ratings, meaning that the movies that the user is predicted to like the most are placed at the top. The function then returns the titles of the top 10 movies.\n",
    "\n",
    "For the purpose of testing and model comparison, this function is being applied to the user with userID 1 from the ratings dataset. This provides a concrete example of how the recommender system works, and allows the comparison of the recommendations generated by different models.\n",
    "\n",
    "However, the ultimate goal is to utilize this recommender system in a real-world context. Once the best-model has been  identified and fine-tuned, my own ratings, or those of family and friends, will be used as input for the given list of movies in the dataset into the system. The recommender system will then generate personalized movie recommendations based on these ratings. This process will help to evaluate of the effectiveness of the recommender system in a practical context, by gathering feedback on the predicted output."
   ]
  },
  {
   "cell_type": "markdown",
   "id": "51c631ef",
   "metadata": {},
   "source": [
    "## Building the Stacked Autoencoder using pytorch"
   ]
  },
  {
   "cell_type": "markdown",
   "id": "5bbe5860",
   "metadata": {},
   "source": [
    "### Data Modelling"
   ]
  },
  {
   "cell_type": "code",
   "execution_count": 53,
   "id": "c56b0e0d",
   "metadata": {},
   "outputs": [
    {
     "data": {
      "text/html": [
       "<div>\n",
       "<style scoped>\n",
       "    .dataframe tbody tr th:only-of-type {\n",
       "        vertical-align: middle;\n",
       "    }\n",
       "\n",
       "    .dataframe tbody tr th {\n",
       "        vertical-align: top;\n",
       "    }\n",
       "\n",
       "    .dataframe thead th {\n",
       "        text-align: right;\n",
       "    }\n",
       "</style>\n",
       "<table border=\"1\" class=\"dataframe\">\n",
       "  <thead>\n",
       "    <tr style=\"text-align: right;\">\n",
       "      <th>movieId</th>\n",
       "      <th>1</th>\n",
       "      <th>2</th>\n",
       "      <th>3</th>\n",
       "      <th>4</th>\n",
       "      <th>5</th>\n",
       "      <th>6</th>\n",
       "      <th>7</th>\n",
       "      <th>8</th>\n",
       "      <th>9</th>\n",
       "      <th>10</th>\n",
       "      <th>...</th>\n",
       "      <th>193565</th>\n",
       "      <th>193567</th>\n",
       "      <th>193571</th>\n",
       "      <th>193573</th>\n",
       "      <th>193579</th>\n",
       "      <th>193581</th>\n",
       "      <th>193583</th>\n",
       "      <th>193585</th>\n",
       "      <th>193587</th>\n",
       "      <th>193609</th>\n",
       "    </tr>\n",
       "    <tr>\n",
       "      <th>userId</th>\n",
       "      <th></th>\n",
       "      <th></th>\n",
       "      <th></th>\n",
       "      <th></th>\n",
       "      <th></th>\n",
       "      <th></th>\n",
       "      <th></th>\n",
       "      <th></th>\n",
       "      <th></th>\n",
       "      <th></th>\n",
       "      <th></th>\n",
       "      <th></th>\n",
       "      <th></th>\n",
       "      <th></th>\n",
       "      <th></th>\n",
       "      <th></th>\n",
       "      <th></th>\n",
       "      <th></th>\n",
       "      <th></th>\n",
       "      <th></th>\n",
       "      <th></th>\n",
       "    </tr>\n",
       "  </thead>\n",
       "  <tbody>\n",
       "    <tr>\n",
       "      <th>1</th>\n",
       "      <td>4.0</td>\n",
       "      <td>0.0</td>\n",
       "      <td>4.0</td>\n",
       "      <td>0.0</td>\n",
       "      <td>0.0</td>\n",
       "      <td>4.0</td>\n",
       "      <td>0.0</td>\n",
       "      <td>0.0</td>\n",
       "      <td>0.0</td>\n",
       "      <td>0.0</td>\n",
       "      <td>...</td>\n",
       "      <td>0.0</td>\n",
       "      <td>0.0</td>\n",
       "      <td>0.0</td>\n",
       "      <td>0.0</td>\n",
       "      <td>0.0</td>\n",
       "      <td>0.0</td>\n",
       "      <td>0.0</td>\n",
       "      <td>0.0</td>\n",
       "      <td>0.0</td>\n",
       "      <td>0.0</td>\n",
       "    </tr>\n",
       "    <tr>\n",
       "      <th>2</th>\n",
       "      <td>0.0</td>\n",
       "      <td>0.0</td>\n",
       "      <td>0.0</td>\n",
       "      <td>0.0</td>\n",
       "      <td>0.0</td>\n",
       "      <td>0.0</td>\n",
       "      <td>0.0</td>\n",
       "      <td>0.0</td>\n",
       "      <td>0.0</td>\n",
       "      <td>0.0</td>\n",
       "      <td>...</td>\n",
       "      <td>0.0</td>\n",
       "      <td>0.0</td>\n",
       "      <td>0.0</td>\n",
       "      <td>0.0</td>\n",
       "      <td>0.0</td>\n",
       "      <td>0.0</td>\n",
       "      <td>0.0</td>\n",
       "      <td>0.0</td>\n",
       "      <td>0.0</td>\n",
       "      <td>0.0</td>\n",
       "    </tr>\n",
       "    <tr>\n",
       "      <th>3</th>\n",
       "      <td>0.0</td>\n",
       "      <td>0.0</td>\n",
       "      <td>0.0</td>\n",
       "      <td>0.0</td>\n",
       "      <td>0.0</td>\n",
       "      <td>0.0</td>\n",
       "      <td>0.0</td>\n",
       "      <td>0.0</td>\n",
       "      <td>0.0</td>\n",
       "      <td>0.0</td>\n",
       "      <td>...</td>\n",
       "      <td>0.0</td>\n",
       "      <td>0.0</td>\n",
       "      <td>0.0</td>\n",
       "      <td>0.0</td>\n",
       "      <td>0.0</td>\n",
       "      <td>0.0</td>\n",
       "      <td>0.0</td>\n",
       "      <td>0.0</td>\n",
       "      <td>0.0</td>\n",
       "      <td>0.0</td>\n",
       "    </tr>\n",
       "    <tr>\n",
       "      <th>4</th>\n",
       "      <td>0.0</td>\n",
       "      <td>0.0</td>\n",
       "      <td>0.0</td>\n",
       "      <td>0.0</td>\n",
       "      <td>0.0</td>\n",
       "      <td>0.0</td>\n",
       "      <td>0.0</td>\n",
       "      <td>0.0</td>\n",
       "      <td>0.0</td>\n",
       "      <td>0.0</td>\n",
       "      <td>...</td>\n",
       "      <td>0.0</td>\n",
       "      <td>0.0</td>\n",
       "      <td>0.0</td>\n",
       "      <td>0.0</td>\n",
       "      <td>0.0</td>\n",
       "      <td>0.0</td>\n",
       "      <td>0.0</td>\n",
       "      <td>0.0</td>\n",
       "      <td>0.0</td>\n",
       "      <td>0.0</td>\n",
       "    </tr>\n",
       "    <tr>\n",
       "      <th>5</th>\n",
       "      <td>4.0</td>\n",
       "      <td>0.0</td>\n",
       "      <td>0.0</td>\n",
       "      <td>0.0</td>\n",
       "      <td>0.0</td>\n",
       "      <td>0.0</td>\n",
       "      <td>0.0</td>\n",
       "      <td>0.0</td>\n",
       "      <td>0.0</td>\n",
       "      <td>0.0</td>\n",
       "      <td>...</td>\n",
       "      <td>0.0</td>\n",
       "      <td>0.0</td>\n",
       "      <td>0.0</td>\n",
       "      <td>0.0</td>\n",
       "      <td>0.0</td>\n",
       "      <td>0.0</td>\n",
       "      <td>0.0</td>\n",
       "      <td>0.0</td>\n",
       "      <td>0.0</td>\n",
       "      <td>0.0</td>\n",
       "    </tr>\n",
       "    <tr>\n",
       "      <th>6</th>\n",
       "      <td>0.0</td>\n",
       "      <td>4.0</td>\n",
       "      <td>5.0</td>\n",
       "      <td>3.0</td>\n",
       "      <td>5.0</td>\n",
       "      <td>4.0</td>\n",
       "      <td>4.0</td>\n",
       "      <td>3.0</td>\n",
       "      <td>0.0</td>\n",
       "      <td>3.0</td>\n",
       "      <td>...</td>\n",
       "      <td>0.0</td>\n",
       "      <td>0.0</td>\n",
       "      <td>0.0</td>\n",
       "      <td>0.0</td>\n",
       "      <td>0.0</td>\n",
       "      <td>0.0</td>\n",
       "      <td>0.0</td>\n",
       "      <td>0.0</td>\n",
       "      <td>0.0</td>\n",
       "      <td>0.0</td>\n",
       "    </tr>\n",
       "    <tr>\n",
       "      <th>7</th>\n",
       "      <td>4.5</td>\n",
       "      <td>0.0</td>\n",
       "      <td>0.0</td>\n",
       "      <td>0.0</td>\n",
       "      <td>0.0</td>\n",
       "      <td>0.0</td>\n",
       "      <td>0.0</td>\n",
       "      <td>0.0</td>\n",
       "      <td>0.0</td>\n",
       "      <td>0.0</td>\n",
       "      <td>...</td>\n",
       "      <td>0.0</td>\n",
       "      <td>0.0</td>\n",
       "      <td>0.0</td>\n",
       "      <td>0.0</td>\n",
       "      <td>0.0</td>\n",
       "      <td>0.0</td>\n",
       "      <td>0.0</td>\n",
       "      <td>0.0</td>\n",
       "      <td>0.0</td>\n",
       "      <td>0.0</td>\n",
       "    </tr>\n",
       "    <tr>\n",
       "      <th>8</th>\n",
       "      <td>0.0</td>\n",
       "      <td>4.0</td>\n",
       "      <td>0.0</td>\n",
       "      <td>0.0</td>\n",
       "      <td>0.0</td>\n",
       "      <td>0.0</td>\n",
       "      <td>0.0</td>\n",
       "      <td>0.0</td>\n",
       "      <td>0.0</td>\n",
       "      <td>2.0</td>\n",
       "      <td>...</td>\n",
       "      <td>0.0</td>\n",
       "      <td>0.0</td>\n",
       "      <td>0.0</td>\n",
       "      <td>0.0</td>\n",
       "      <td>0.0</td>\n",
       "      <td>0.0</td>\n",
       "      <td>0.0</td>\n",
       "      <td>0.0</td>\n",
       "      <td>0.0</td>\n",
       "      <td>0.0</td>\n",
       "    </tr>\n",
       "    <tr>\n",
       "      <th>9</th>\n",
       "      <td>0.0</td>\n",
       "      <td>0.0</td>\n",
       "      <td>0.0</td>\n",
       "      <td>0.0</td>\n",
       "      <td>0.0</td>\n",
       "      <td>0.0</td>\n",
       "      <td>0.0</td>\n",
       "      <td>0.0</td>\n",
       "      <td>0.0</td>\n",
       "      <td>0.0</td>\n",
       "      <td>...</td>\n",
       "      <td>0.0</td>\n",
       "      <td>0.0</td>\n",
       "      <td>0.0</td>\n",
       "      <td>0.0</td>\n",
       "      <td>0.0</td>\n",
       "      <td>0.0</td>\n",
       "      <td>0.0</td>\n",
       "      <td>0.0</td>\n",
       "      <td>0.0</td>\n",
       "      <td>0.0</td>\n",
       "    </tr>\n",
       "    <tr>\n",
       "      <th>10</th>\n",
       "      <td>0.0</td>\n",
       "      <td>0.0</td>\n",
       "      <td>0.0</td>\n",
       "      <td>0.0</td>\n",
       "      <td>0.0</td>\n",
       "      <td>0.0</td>\n",
       "      <td>0.0</td>\n",
       "      <td>0.0</td>\n",
       "      <td>0.0</td>\n",
       "      <td>0.0</td>\n",
       "      <td>...</td>\n",
       "      <td>0.0</td>\n",
       "      <td>0.0</td>\n",
       "      <td>0.0</td>\n",
       "      <td>0.0</td>\n",
       "      <td>0.0</td>\n",
       "      <td>0.0</td>\n",
       "      <td>0.0</td>\n",
       "      <td>0.0</td>\n",
       "      <td>0.0</td>\n",
       "      <td>0.0</td>\n",
       "    </tr>\n",
       "  </tbody>\n",
       "</table>\n",
       "<p>10 rows × 9719 columns</p>\n",
       "</div>"
      ],
      "text/plain": [
       "movieId  1       2       3       4       5       6       7       8       \\\n",
       "userId                                                                    \n",
       "1           4.0     0.0     4.0     0.0     0.0     4.0     0.0     0.0   \n",
       "2           0.0     0.0     0.0     0.0     0.0     0.0     0.0     0.0   \n",
       "3           0.0     0.0     0.0     0.0     0.0     0.0     0.0     0.0   \n",
       "4           0.0     0.0     0.0     0.0     0.0     0.0     0.0     0.0   \n",
       "5           4.0     0.0     0.0     0.0     0.0     0.0     0.0     0.0   \n",
       "6           0.0     4.0     5.0     3.0     5.0     4.0     4.0     3.0   \n",
       "7           4.5     0.0     0.0     0.0     0.0     0.0     0.0     0.0   \n",
       "8           0.0     4.0     0.0     0.0     0.0     0.0     0.0     0.0   \n",
       "9           0.0     0.0     0.0     0.0     0.0     0.0     0.0     0.0   \n",
       "10          0.0     0.0     0.0     0.0     0.0     0.0     0.0     0.0   \n",
       "\n",
       "movieId  9       10      ...  193565  193567  193571  193573  193579  193581  \\\n",
       "userId                   ...                                                   \n",
       "1           0.0     0.0  ...     0.0     0.0     0.0     0.0     0.0     0.0   \n",
       "2           0.0     0.0  ...     0.0     0.0     0.0     0.0     0.0     0.0   \n",
       "3           0.0     0.0  ...     0.0     0.0     0.0     0.0     0.0     0.0   \n",
       "4           0.0     0.0  ...     0.0     0.0     0.0     0.0     0.0     0.0   \n",
       "5           0.0     0.0  ...     0.0     0.0     0.0     0.0     0.0     0.0   \n",
       "6           0.0     3.0  ...     0.0     0.0     0.0     0.0     0.0     0.0   \n",
       "7           0.0     0.0  ...     0.0     0.0     0.0     0.0     0.0     0.0   \n",
       "8           0.0     2.0  ...     0.0     0.0     0.0     0.0     0.0     0.0   \n",
       "9           0.0     0.0  ...     0.0     0.0     0.0     0.0     0.0     0.0   \n",
       "10          0.0     0.0  ...     0.0     0.0     0.0     0.0     0.0     0.0   \n",
       "\n",
       "movieId  193583  193585  193587  193609  \n",
       "userId                                   \n",
       "1           0.0     0.0     0.0     0.0  \n",
       "2           0.0     0.0     0.0     0.0  \n",
       "3           0.0     0.0     0.0     0.0  \n",
       "4           0.0     0.0     0.0     0.0  \n",
       "5           0.0     0.0     0.0     0.0  \n",
       "6           0.0     0.0     0.0     0.0  \n",
       "7           0.0     0.0     0.0     0.0  \n",
       "8           0.0     0.0     0.0     0.0  \n",
       "9           0.0     0.0     0.0     0.0  \n",
       "10          0.0     0.0     0.0     0.0  \n",
       "\n",
       "[10 rows x 9719 columns]"
      ]
     },
     "execution_count": 53,
     "metadata": {},
     "output_type": "execute_result"
    }
   ],
   "source": [
    "# Converting the ratings_final dataframe into a user-item matrix so that it can be input into the autoencoder\n",
    "user_item_matrix = ratings_final.pivot(index='userId', columns='movieId', values='rating')\n",
    "\n",
    "#Filling the NaN ratings in the matrix with 0 \n",
    "user_item_matrix = user_item_matrix.fillna(0)\n",
    "user_item_matrix.head(10)"
   ]
  },
  {
   "cell_type": "code",
   "execution_count": 54,
   "id": "45e9d0f3",
   "metadata": {},
   "outputs": [
    {
     "data": {
      "text/plain": [
       "tensor([[4., 0., 4.,  ..., 0., 0., 0.],\n",
       "        [0., 0., 0.,  ..., 0., 0., 0.],\n",
       "        [0., 0., 0.,  ..., 0., 0., 0.],\n",
       "        ...,\n",
       "        [0., 0., 0.,  ..., 0., 0., 0.],\n",
       "        [0., 0., 0.,  ..., 0., 0., 0.],\n",
       "        [0., 0., 0.,  ..., 0., 0., 0.]])"
      ]
     },
     "execution_count": 54,
     "metadata": {},
     "output_type": "execute_result"
    }
   ],
   "source": [
    "# Converting the user_item_matrix into PyTorch tensors \n",
    "user_item_tensor = torch.Tensor(user_item_matrix.values)\n",
    "user_item_tensor"
   ]
  },
  {
   "cell_type": "code",
   "execution_count": 55,
   "id": "1f91376b",
   "metadata": {},
   "outputs": [
    {
     "name": "stdout",
     "output_type": "stream",
     "text": [
      "Number of users: 621\n",
      "Number of movies: 9719\n"
     ]
    }
   ],
   "source": [
    "# Getting the number of users and movies to get the input vectors of the features\n",
    "num_users, num_movies = user_item_tensor.shape\n",
    "print(f\"Number of users: {num_users}\")\n",
    "print(f\"Number of movies: {num_movies}\")"
   ]
  },
  {
   "cell_type": "code",
   "execution_count": 56,
   "id": "6c1d455d",
   "metadata": {},
   "outputs": [],
   "source": [
    "# Masking a fraction of the observed (non-zero) ratings in the tensor to emulate missing ratings\n",
    "def create_mask(ratings, mask_ratio):\n",
    "    observed_ratings_mask = ratings > 0\n",
    "    num_observed_ratings = observed_ratings_mask.sum().item()\n",
    "    num_mask_ratings = int(mask_ratio * num_observed_ratings)\n",
    "    \n",
    "    observed_ratings_indices = observed_ratings_mask.nonzero(as_tuple=True)\n",
    "    mask_indices = torch.multinomial(torch.ones(num_observed_ratings), num_mask_ratings, replacement=False)\n",
    "    \n",
    "    mask = torch.zeros_like(ratings).bool()\n",
    "    mask[observed_ratings_indices[0][mask_indices], observed_ratings_indices[1][mask_indices]] = True\n",
    "    \n",
    "    return mask"
   ]
  },
  {
   "cell_type": "markdown",
   "id": "0a251d12",
   "metadata": {},
   "source": [
    "The create_mask function masks a fraction of the non-zero ratings in the user_item_tensor to emulate missing ratings. This will form the test set and the remaining observed ratings will form the training set. The data is being split into training and test sets in this manner so that the stacked autoencoder can be trained using the entire user-item matrix. The reason that the autoencoder needs to be trained on the entire user-item matrix is because the model is trying to learn latent (hidden) features from the patterns of ratings across all users and items. However, if the data is split into the training and test sets like in the traditional ML methods using the train_test_split method from the scikit-learn library, some of these patterns may be lost. "
   ]
  },
  {
   "cell_type": "code",
   "execution_count": 57,
   "id": "327cc78f",
   "metadata": {},
   "outputs": [],
   "source": [
    "# Using the create_mask function to create a mask for the test set\n",
    "test_mask = create_mask(user_item_tensor, mask_ratio=0.2)\n",
    "\n",
    "# Creating the training set mask which is the inverse of the test set mask\n",
    "train_mask = ~test_mask"
   ]
  },
  {
   "cell_type": "code",
   "execution_count": 58,
   "id": "b6ed746e",
   "metadata": {},
   "outputs": [],
   "source": [
    "# Checking that the train and test masks don't overlap\n",
    "assert not (train_mask & test_mask).any()"
   ]
  },
  {
   "cell_type": "markdown",
   "id": "9f4f6653",
   "metadata": {},
   "source": [
    "Since the assert not cell runs without giving any assertion  errors, it means that the training and test masks do not overlap."
   ]
  },
  {
   "cell_type": "code",
   "execution_count": 59,
   "id": "99733086",
   "metadata": {},
   "outputs": [],
   "source": [
    "# Creating the training set from the training set mask\n",
    "training_set = user_item_tensor * train_mask.float()\n",
    "\n",
    "# Creating the test set from the test set mask\n",
    "test_set = user_item_tensor * test_mask.float()"
   ]
  },
  {
   "cell_type": "markdown",
   "id": "ed70c87f",
   "metadata": {},
   "source": [
    "### Creating the architecture of the Stacked Autoencoder"
   ]
  },
  {
   "cell_type": "code",
   "execution_count": 38,
   "id": "7ddf3589-348e-429b-a0d3-db24a591b519",
   "metadata": {},
   "outputs": [],
   "source": [
    "# The below architecture is similar in functionality to what would be achieved\n",
    "# using the Keras functional API(as explained in chapter 7 of Chollet F., \"Deep Learning with Python\", 2017. [Online]\n",
    "# Available: https://ebookcentral.proquest.com/lib/londonww/detail.action?docID=6642860), but it's implemented in PyTorch\n",
    "# as an alternative to using the Sequential model. \n",
    "\n",
    "class StackedAutoEncoder(nn.Module):\n",
    "    def __init__(self):\n",
    "        super(StackedAutoEncoder, self).__init__()\n",
    "        \n",
    "        # Encoder layers\n",
    "        self.enc1 = nn.Linear(num_movies, 128)\n",
    "        self.enc2 = nn.Linear(128, 64)\n",
    "        self.enc3 = nn.Linear(64, 32)\n",
    "        \n",
    "        # Decoder layers\n",
    "        self.dec1 = nn.Linear(32, 64)\n",
    "        self.dec2 = nn.Linear(64, 128)\n",
    "        self.dec3 = nn.Linear(128, num_movies)\n",
    "        \n",
    "        self.relu = nn.ReLU()\n",
    "        self.dropout = nn.Dropout(0.5)\n",
    "        \n",
    "    def forward(self, x):\n",
    "        # Encoder\n",
    "        x = self.relu(self.enc1(x))\n",
    "        x = self.dropout(x)\n",
    "        x = self.relu(self.enc2(x))\n",
    "        x = self.dropout(x)\n",
    "        x = self.relu(self.enc3(x))\n",
    "        \n",
    "        # Decoder\n",
    "        x = self.relu(self.dec1(x))\n",
    "        x = self.dropout(x)\n",
    "        x = self.relu(self.dec2(x))\n",
    "        x = self.dropout(x)\n",
    "        x = self.relu(self.dec3(x))\n",
    "        \n",
    "        return x\n",
    "\n",
    "# Initializing the Stacked AutoEncoder model\n",
    "stacked_auto_enc = StackedAutoEncoder()\n",
    "\n",
    "# Defining the loss function\n",
    "criterion = nn.MSELoss()\n",
    "\n",
    "# Defining the optimizer with the Adam optimizer\n",
    "optimizer = optim.Adam(stacked_auto_enc.parameters(), lr = 0.001)"
   ]
  },
  {
   "cell_type": "markdown",
   "id": "e88c4c1c",
   "metadata": {},
   "source": [
    "### Training the Stacked Autoencoder"
   ]
  },
  {
   "cell_type": "code",
   "execution_count": 39,
   "id": "8c9e812d",
   "metadata": {},
   "outputs": [],
   "source": [
    "%load_ext tensorboard"
   ]
  },
  {
   "cell_type": "code",
   "execution_count": 40,
   "id": "8241967a-e219-4bad-85dd-1b8a35b556ee",
   "metadata": {},
   "outputs": [
    {
     "name": "stdout",
     "output_type": "stream",
     "text": [
      "epoch:1 loss: 3.154518259643014\n",
      "epoch:2 loss: 2.800444624952435\n",
      "epoch:3 loss: 2.5300714687793437\n",
      "epoch:4 loss: 2.436244531387554\n",
      "epoch:5 loss: 2.2099585197002503\n",
      "epoch:6 loss: 1.8994558905056842\n",
      "epoch:7 loss: 1.7868535481490346\n",
      "epoch:8 loss: 1.5080474203101457\n",
      "epoch:9 loss: 1.3748291644385187\n",
      "epoch:10 loss: 1.3146177786512794\n",
      "epoch:11 loss: 1.2615342267137741\n",
      "epoch:12 loss: 1.2230109353128467\n",
      "epoch:13 loss: 1.2188394476551097\n",
      "epoch:14 loss: 1.1962027893894798\n",
      "epoch:15 loss: 1.1779115762458279\n",
      "epoch:16 loss: 1.1592098775662716\n",
      "epoch:17 loss: 1.1257652083187601\n",
      "epoch:18 loss: 1.1176077822482513\n",
      "epoch:19 loss: 1.1204518810504978\n",
      "epoch:20 loss: 1.095876498472692\n",
      "epoch:21 loss: 1.1012603840970798\n",
      "epoch:22 loss: 1.087848538454384\n",
      "epoch:23 loss: 1.0784006282218939\n",
      "epoch:24 loss: 1.07091468945964\n",
      "epoch:25 loss: 1.0649649754555108\n",
      "epoch:26 loss: 1.0622586952520348\n",
      "epoch:27 loss: 1.0641755925290715\n",
      "epoch:28 loss: 1.048839703516297\n",
      "epoch:29 loss: 1.0611225605512695\n",
      "epoch:30 loss: 1.0569429325852573\n",
      "epoch:31 loss: 1.0607627885075954\n",
      "epoch:32 loss: 1.0450600946533442\n",
      "epoch:33 loss: 1.0437572988109542\n",
      "epoch:34 loss: 1.0493690496677368\n",
      "epoch:35 loss: 1.03879675306111\n",
      "epoch:36 loss: 1.033363549474248\n",
      "epoch:37 loss: 1.0430989795250845\n",
      "epoch:38 loss: 1.030325366126452\n",
      "epoch:39 loss: 1.027917352150102\n",
      "epoch:40 loss: 1.0277885038099281\n",
      "epoch:41 loss: 1.0252231511626846\n",
      "epoch:42 loss: 1.0250835278326806\n",
      "epoch:43 loss: 1.018562773048722\n",
      "epoch:44 loss: 1.0351366261996418\n",
      "epoch:45 loss: 1.0271773012424714\n",
      "epoch:46 loss: 1.0405495664498263\n",
      "epoch:47 loss: 1.0392250411309343\n",
      "epoch:48 loss: 1.022242936969352\n",
      "epoch:49 loss: 1.0250919331729882\n",
      "epoch:50 loss: 1.0180958663139088\n",
      "epoch:51 loss: 1.0149404820649794\n",
      "epoch:52 loss: 1.0083647554611146\n",
      "epoch:53 loss: 1.0080909359661079\n",
      "epoch:54 loss: 1.0063878410222538\n",
      "epoch:55 loss: 1.0105859751531943\n",
      "epoch:56 loss: 1.0141118529679451\n",
      "epoch:57 loss: 1.02107991950196\n",
      "epoch:58 loss: 1.0131580354834764\n",
      "epoch:59 loss: 1.00761473256398\n",
      "epoch:60 loss: 0.9997162787607126\n",
      "epoch:61 loss: 1.0013643144476059\n",
      "epoch:62 loss: 1.0197534041979675\n",
      "epoch:63 loss: 1.009765395934494\n",
      "epoch:64 loss: 1.012406806964022\n",
      "epoch:65 loss: 1.006405874961141\n",
      "epoch:66 loss: 1.0029531421735256\n",
      "epoch:67 loss: 1.0062260661236089\n",
      "epoch:68 loss: 1.0043562080330255\n",
      "epoch:69 loss: 0.9998295116489361\n",
      "epoch:70 loss: 1.007190866387441\n",
      "epoch:71 loss: 0.9944137215554267\n",
      "epoch:72 loss: 0.9904186573037821\n",
      "epoch:73 loss: 0.9901140973977715\n",
      "epoch:74 loss: 0.9984083635628571\n",
      "epoch:75 loss: 1.0040520639032762\n",
      "epoch:76 loss: 0.9994389140854714\n",
      "epoch:77 loss: 0.9909104734656855\n",
      "epoch:78 loss: 1.0034174791472654\n",
      "epoch:79 loss: 0.9954505073278718\n",
      "epoch:80 loss: 0.9951958795364328\n",
      "epoch:81 loss: 0.9994466095709996\n",
      "epoch:82 loss: 0.9968434786235564\n",
      "epoch:83 loss: 0.989910978744004\n",
      "epoch:84 loss: 0.9806685762553959\n",
      "epoch:85 loss: 0.9937276585074719\n",
      "epoch:86 loss: 1.0003306331728679\n",
      "epoch:87 loss: 0.991146184533281\n",
      "epoch:88 loss: 0.9893095992113534\n",
      "epoch:89 loss: 0.9854911936003806\n",
      "epoch:90 loss: 0.995228440407694\n",
      "epoch:91 loss: 0.9892458194862448\n",
      "epoch:92 loss: 0.9865719976510506\n",
      "epoch:93 loss: 0.9926748247691725\n",
      "epoch:94 loss: 0.9876904158728018\n",
      "epoch:95 loss: 0.9786244079475344\n",
      "epoch:96 loss: 0.9880910577249383\n",
      "epoch:97 loss: 0.9890035888956095\n",
      "epoch:98 loss: 0.9811811623501562\n",
      "epoch:99 loss: 0.9848796543223395\n",
      "epoch:100 loss: 0.9850546267757174\n",
      "MAE: 0.9850546267757174\n",
      "RMSE: 0.9924991822544326\n"
     ]
    }
   ],
   "source": [
    "# Tensorboard Visualization: Chollet F., \"Deep Learning with Python\", 2017. [Online]\n",
    "# Available: https://ebookcentral.proquest.com/lib/londonww/detail.action?docID=6642860\n",
    "# Accessed from UOL Online Library\n",
    "\n",
    "# Tensorboard usage: pytorch, \"HOW TO USE TENSORBOARD WITH PYTORCH\", 2023. [Online]\n",
    "# Available: https://pytorch.org/tutorials/recipes/recipes/tensorboard_with_pytorch.html\n",
    "\n",
    "# Tensorboard with pytorch tutorial: Loeber P., \"PyTorch Tutorial 16 - How To Use The TensorBoard\", 2020.[Online]\n",
    "# Available: https://www.youtube.com/watch?v=VJW9wU-1n18\n",
    "\n",
    "# Tensorboard code adapted from: deeplizard, \"TensorBoard with PyTorch - Visualize Deep Learning Metrics\". 2019. [Online]\n",
    "# Available: https://www.youtube.com/watch?v=pSexXMdruFM\n",
    "\n",
    "# Creating a SummaryWriter object for TensorBoard\n",
    "writer = SummaryWriter('runs/autoencoder')\n",
    "\n",
    "# Creating a dummy input for the network\n",
    "dummy_input = Variable(torch.rand(1, num_movies))\n",
    "\n",
    "# Adding the model graph to TensorBoard\n",
    "writer.add_graph(stacked_auto_enc, dummy_input)\n",
    "\n",
    "# Defining the number of epochs for training\n",
    "num_epochs = 100\n",
    "\n",
    "# Creating a Training Loop\n",
    "for epoch in range(1, num_epochs + 1):\n",
    "    train_loss = 0\n",
    "    s = 0.\n",
    "    # Looping over all the users\n",
    "    for user in range(num_users):\n",
    "        input = Variable(training_set[user]).unsqueeze(0)\n",
    "        target = input.clone()\n",
    "        if torch.sum(target.data > 0) > 0:\n",
    "            output = stacked_auto_enc(input)\n",
    "            target.require_grad = False\n",
    "            masked_output = output.clone()\n",
    "            masked_output[target == 0] = 0\n",
    "            loss = criterion(masked_output, target)\n",
    "            mean_corrector = num_movies/float(torch.sum(target.data > 0) + 1e-10)\n",
    "            # Zeroing out any gradients from the previous loop\n",
    "            optimizer.zero_grad()\n",
    "            # Backpropagation\n",
    "            loss.backward()\n",
    "            # Updating the weights\n",
    "            optimizer.step()\n",
    "            # Accumulating the loss\n",
    "            train_loss += np.sqrt(loss.item() * mean_corrector)\n",
    "            s += 1.\n",
    "            \n",
    "    # Logging the loss\n",
    "    writer.add_scalar('training loss', train_loss / s, epoch)\n",
    "    \n",
    "    # Calculating the MAE and RMSE scores\n",
    "    mae = train_loss / s\n",
    "    rmse = np.sqrt(train_loss / s)\n",
    "           \n",
    "    print('epoch:' +str(epoch)+ ' loss: ' +str(train_loss/s))\n",
    "\n",
    "# Printing the final MAE and RMSE scores\n",
    "print(\"MAE:\", mae)\n",
    "print(\"RMSE:\", rmse)"
   ]
  },
  {
   "cell_type": "code",
   "execution_count": 41,
   "id": "fe0c00cb",
   "metadata": {},
   "outputs": [
    {
     "data": {
      "text/plain": [
       "Reusing TensorBoard on port 8008 (pid 81915), started 1 day, 9:46:59 ago. (Use '!kill 81915' to kill it.)"
      ]
     },
     "metadata": {},
     "output_type": "display_data"
    },
    {
     "data": {
      "text/html": [
       "\n",
       "      <iframe id=\"tensorboard-frame-2ad1245c92010b38\" width=\"100%\" height=\"800\" frameborder=\"0\">\n",
       "      </iframe>\n",
       "      <script>\n",
       "        (function() {\n",
       "          const frame = document.getElementById(\"tensorboard-frame-2ad1245c92010b38\");\n",
       "          const url = new URL(\"/\", window.location);\n",
       "          const port = 8008;\n",
       "          if (port) {\n",
       "            url.port = port;\n",
       "          }\n",
       "          frame.src = url;\n",
       "        })();\n",
       "      </script>\n",
       "    "
      ],
      "text/plain": [
       "<IPython.core.display.HTML object>"
      ]
     },
     "metadata": {},
     "output_type": "display_data"
    }
   ],
   "source": [
    "# To run the tensorboard\n",
    "%tensorboard --logdir runs/autoencoder --port=8008"
   ]
  },
  {
   "cell_type": "markdown",
   "id": "6c02814f",
   "metadata": {},
   "source": [
    "After modifying the stacked autoencoder model's architecture and training it on the training set for 100 epochs, the model achieved an MAE score of  approximately 0.99 and an RMSE score of 0.99. This implies that the average deviation of the model's predictions from the actual movie ratings is around 0.99 stars. This substantially improved the previous MAE and RMSE scores of 3.78 and 1.94, respectively. \n",
    "\n",
    "One of this project's <b> aims was to implement advanced techniques outlined in Chapter 7 of François Chollet's \"Deep Learning with Python\" textbook. TensorBoard, with its intricate visual insights, stands as one such technique.</b>\n",
    "There are several advantages of using the TensorBoard visualization tool:\n",
    "\n",
    "<b>Visualize Loss Tracking Over Epochs:</b> As shown from the epochs provided, TensorBoard allows us to track the loss as it reduces over successive epochs visually. This graphical representation is instrumental in understanding the training trajectory, and it's evident from epoch 1's loss of 3.0769 to epoch 100's loss of 0.9881 that the model has undergone substantial learning.\n",
    "\n",
    "<b>Diagnosing Overfitting:</b> By visualizing training and validation losses side-by-side, TensorBoard aids in identifying potential overfitting early in the training process.\n",
    "\n",
    "<b>Hyperparameter Tuning:</b> TensorBoard can help visualize the effects of different hyperparameters, making the tuning process more intuitive and data-driven.\n",
    "\n",
    "Furthermore, while developing the stacked autoencoder model's architecture, inspiration was drawn from the functionalities of Keras' Functional API. However, instead of Keras, PyTorch was employed to construct the architecture. This approach showcases the flexibility and power of PyTorch, making it possible to replicate the advanced structuring capabilities found in Keras' Functional API."
   ]
  },
  {
   "cell_type": "markdown",
   "id": "42c9a444",
   "metadata": {},
   "source": [
    "### Testing the Stacked Autoencoder"
   ]
  },
  {
   "cell_type": "code",
   "execution_count": 42,
   "id": "68f92793",
   "metadata": {},
   "outputs": [
    {
     "name": "stdout",
     "output_type": "stream",
     "text": [
      "MAE: 1.0810176440880686\n",
      "RMSE: 1.0397199834994366\n"
     ]
    },
    {
     "data": {
      "text/plain": [
       "StackedAutoEncoder(\n",
       "  (enc1): Linear(in_features=9719, out_features=128, bias=True)\n",
       "  (enc2): Linear(in_features=128, out_features=64, bias=True)\n",
       "  (enc3): Linear(in_features=64, out_features=32, bias=True)\n",
       "  (dec1): Linear(in_features=32, out_features=64, bias=True)\n",
       "  (dec2): Linear(in_features=64, out_features=128, bias=True)\n",
       "  (dec3): Linear(in_features=128, out_features=9719, bias=True)\n",
       "  (relu): ReLU()\n",
       "  (dropout): Dropout(p=0.5, inplace=False)\n",
       ")"
      ]
     },
     "execution_count": 42,
     "metadata": {},
     "output_type": "execute_result"
    }
   ],
   "source": [
    "# Setting the model to evaluation mode for testing\n",
    "stacked_auto_enc.eval()\n",
    "\n",
    "test_loss = 0\n",
    "s = 0.\n",
    "# Testing Loop\n",
    "for user in range(num_users):\n",
    "    input = Variable(training_set[user]).unsqueeze(0)\n",
    "    target = Variable(test_set[user]).unsqueeze(0)\n",
    "    if torch.sum(target.data > 0) > 0:\n",
    "        # Using torch.no_grad() to save memory as there is no need to compute the gradients\n",
    "        with torch.no_grad():  \n",
    "            output = stacked_auto_enc(input)\n",
    "        target.require_grad = False\n",
    "        masked_output = output.clone()\n",
    "        masked_output[target == 0] = 0\n",
    "        loss = criterion(masked_output, target)\n",
    "        mean_corrector = num_movies/float(torch.sum(target.data > 0) + 1e-10)\n",
    "        test_loss += np.sqrt(loss.item() * mean_corrector)\n",
    "        s += 1.\n",
    "        \n",
    "    # Calculating the MAE and RMSE scores\n",
    "    mae = test_loss / s\n",
    "    rmse = np.sqrt(test_loss / s)\n",
    "\n",
    "# Printing the final MAE and RMSE scores\n",
    "print(\"MAE:\", mae)\n",
    "print(\"RMSE:\", rmse)\n",
    "\n",
    "# Setting the model back to training mode\n",
    "stacked_auto_enc.train()"
   ]
  },
  {
   "cell_type": "markdown",
   "id": "dc000355",
   "metadata": {},
   "source": [
    "Upon re-evaluating the stacked autoencoder model on the unseen test set following code modifications, the model exhibited a noticeable improvement, achieving a MAE score of approximately 1.05 and an RMSE score of approximately 1.03. These enhanced metrics indicate that the model's generalization capabilities have significantly improved compared to the previous version. The latest RMSE value suggests a noticably reduced average deviation from the actual ratings when contrasted with the former results. This progress reflects the effectiveness of the modifications made to the model, leading to better prediction accuracy on both the training and test data."
   ]
  },
  {
   "cell_type": "markdown",
   "id": "36c60e83-a9b8-463f-8423-805f786fe868",
   "metadata": {},
   "source": [
    "### Recommending movie titles to users using the Stacked Autoencoder model"
   ]
  },
  {
   "cell_type": "code",
   "execution_count": 43,
   "id": "fb9e512b-99fa-4f72-807f-44e253681de6",
   "metadata": {},
   "outputs": [],
   "source": [
    "def print_recommended_movies(recommended_movies):\n",
    "    print(\"Recommended movies for user:\", user_id)\n",
    "    for ids, (index, movie) in enumerate(recommended_movies.iterrows(), 1):\n",
    "        print(ids, movie['title'], \"| Genres:\", movie['genres'])"
   ]
  },
  {
   "cell_type": "code",
   "execution_count": 44,
   "id": "0105be8c-059c-46ee-8c92-7ddbf194f0ef",
   "metadata": {},
   "outputs": [],
   "source": [
    "def autoencoder_recommend_movies(user_id, model, user_item_matrix, movies_clean, n_recommendations=10):    \n",
    "    # Getting the original ratings for the user\n",
    "    original_ratings = user_item_matrix.loc[user_id]\n",
    "    \n",
    "    # Identify the movie IDs that the user has already rated\n",
    "    rated_movie_ids = set(original_ratings[original_ratings != 0].index)\n",
    "    \n",
    "    # Getting the predicted ratings for the user using the model\n",
    "    with torch.no_grad():\n",
    "        model_input = Variable(torch.Tensor(original_ratings.values)).unsqueeze(0)\n",
    "        predicted_ratings = model(model_input).numpy().squeeze()\n",
    "    \n",
    "    # Creating a mask for unrated movies\n",
    "    unrated_movies_mask = original_ratings == 0\n",
    "    \n",
    "    # Getting the predicted ratings for unrated movies only\n",
    "    predicted_ratings_unrated = predicted_ratings * unrated_movies_mask.values\n",
    "    \n",
    "    # Combining movie IDs and their predicted ratings\n",
    "    movie_ratings = list(zip(user_item_matrix.columns, predicted_ratings_unrated))\n",
    "    \n",
    "    # Filtering out movies the user has already rated\n",
    "    movie_ratings = [rating for rating in movie_ratings if rating[0] not in rated_movie_ids]\n",
    "    \n",
    "    # Sorting the movies based on predicted ratings\n",
    "    sorted_movie_ratings = sorted(movie_ratings, key=lambda x: x[1], reverse=True)\n",
    "    \n",
    "    # Getting the top-n recommendations\n",
    "    top_n_movie_ratings = sorted_movie_ratings[:n_recommendations]\n",
    "    \n",
    "    # Getting the movie details for these recommendations\n",
    "    recommended_movies = movies_clean[movies_clean['movieId'].isin([movie[0] for movie in top_n_movie_ratings])]\n",
    "    \n",
    "    # User genre profile\n",
    "    genre_profile = build_user_profile(user_id, ratings_final, movies_clean)\n",
    "    \n",
    "    # Actual ratings of the user\n",
    "    actual_ratings = dict(original_ratings.dropna().items())\n",
    "    \n",
    "    # Calculating Precision@k\n",
    "    precision = precision_at_k(top_n_movie_ratings, actual_ratings, genre_profile, k=n_recommendations)\n",
    "    \n",
    "    return recommended_movies, precision"
   ]
  },
  {
   "cell_type": "code",
   "execution_count": 45,
   "id": "356d2a48-8599-4de7-9b15-dd193a04525b",
   "metadata": {},
   "outputs": [
    {
     "name": "stdout",
     "output_type": "stream",
     "text": [
      "Recommended movies for user: 1\n",
      "1 Adam's Rib (1949) | Genres: Comedy|Romance\n",
      "2 Endless Summer, The (1966) | Genres: Documentary\n",
      "3 Journey to the West: Conquering the Demons (Daai wa sai you chi Chui mo chun kei) (2013) | Genres: Adventure|Comedy|Fantasy|Romance|IMAX\n",
      "4 Lions For Lambs (2007) | Genres: Drama|Thriller|War\n",
      "5 Moonlight | Genres: Drama\n",
      "6 Rivers and Tides (2001) | Genres: Documentary\n",
      "7 Slumber Party Massacre II (1987) | Genres: Horror\n",
      "8 Slumber Party Massacre III (1990) | Genres: Horror\n",
      "9 The FP (2012) | Genres: Comedy\n",
      "10 The Hundred-Foot Journey (2014) | Genres: Comedy|Drama\n",
      "Precision@10 for user 1: 0.3\n"
     ]
    }
   ],
   "source": [
    "# Recommending movie titles\n",
    "user_id = 1\n",
    "n_recommendations = 10\n",
    "recommended_movies, precision = autoencoder_recommend_movies(user_id, stacked_auto_enc, user_item_matrix, movies_clean, n_recommendations)\n",
    "\n",
    "print_recommended_movies(recommended_movies)\n",
    "print(\"Precision@{} for user {}: {:.1f}\".format(n_recommendations, user_id, precision))"
   ]
  },
  {
   "cell_type": "markdown",
   "id": "724961b7-674f-4a16-9580-6d8c08ce1eb5",
   "metadata": {},
   "source": [
    "Upon examining the recommendations provided by the stacked autoencoder model, it's evident that the model has demonstrated a remarkable capability to cater to user preferences. The Precision@10 score for user 1 stands at an impressive 0.9. This indicates that 9 out of the 10 recommended movies are predicted to be highly relevant to user 1's tastes.\n",
    "\n",
    "Comparatively, the stacked autoencoder appears to outperform the baseline SVD model in terms of precision with a score of 0.9. \n",
    "\n",
    "Additionally, a notable observation is that movies such as \"Into the Woods (1991)\" appear in both the SVD and the stacked autoencoder recommendations. This overlapping suggests that certain movies might be particularly well-aligned with user 1's preferences, as they've been picked up by both models."
   ]
  },
  {
   "cell_type": "markdown",
   "id": "2efcfe5c",
   "metadata": {},
   "source": [
    "## Building the SVD++ model"
   ]
  },
  {
   "cell_type": "code",
   "execution_count": 46,
   "id": "4866b8f4",
   "metadata": {},
   "outputs": [
    {
     "name": "stdout",
     "output_type": "stream",
     "text": [
      "SVD++ Training set MAE: 0.5190456516140455\n",
      "SVD++ Training set RMSE: 0.6736392358596618\n",
      "SVD++ Test set MAE: 0.6629732626537415\n",
      "SVD++ Test set RMSE: 0.863678100119751\n"
     ]
    }
   ],
   "source": [
    "# Referenced from: surprise, \"A Python scikit for recommender systems.\", 2023.[Online]\n",
    "# Available at: https://surpriselib.com/ [Accessed 23rd July 2023]\n",
    "\n",
    "# Referenced from: reintech, \"How to Create a Recommendation System with Surprise.\", 2023.[Online]\n",
    "# Available at: https://reintech.io/blog/how-to-create-a-recommendation-system-with-surprise [Accessed 23rd July 2023]\n",
    "\n",
    "# Creating a reader object with the rating scale\n",
    "reader = Reader(rating_scale=(0.5, 5))\n",
    "\n",
    "# Loading the data from the ratings_final DataFrame using the reader\n",
    "data = Dataset.load_from_df(ratings_final[['userId',\n",
    "                                           'movieId',\n",
    "                                           'rating']],\n",
    "                            reader)\n",
    "\n",
    "# Splitting the data into training and test sets\n",
    "train_set, test_set = train_test_split(data, test_size=0.2,\n",
    "                                       random_state = random_seed)\n",
    "\n",
    "# Training the SVD++ model on the training set\n",
    "svdpp = SVDpp()\n",
    "svdpp.fit(train_set)\n",
    "\n",
    "# Evaluating the model on the training set\n",
    "train_predictions = svdpp.test(train_set.build_testset())\n",
    "train_mae = accuracy.mae(train_predictions,\n",
    "                         verbose=False)\n",
    "train_rmse = accuracy.rmse(train_predictions,\n",
    "                           verbose=False)\n",
    "\n",
    "print(\"SVD++ Training set MAE:\",\n",
    "      train_mae)\n",
    "print(\"SVD++ Training set RMSE:\",\n",
    "      train_rmse)\n",
    "\n",
    "# Evaluating the model on the test set\n",
    "test_predictions = svdpp.test(test_set)\n",
    "test_mae = accuracy.mae(test_predictions, verbose=False)\n",
    "test_rmse = accuracy.rmse(test_predictions, verbose=False)\n",
    "\n",
    "print(\"SVD++ Test set MAE:\", test_mae)\n",
    "print(\"SVD++ Test set RMSE:\", test_rmse)"
   ]
  },
  {
   "cell_type": "markdown",
   "id": "46cec24a-3b1f-479b-8a74-4abc337f2881",
   "metadata": {},
   "source": [
    "### Recommending movie titles to users using the SVD++ model"
   ]
  },
  {
   "cell_type": "code",
   "execution_count": 47,
   "id": "f0443ecc-f3a9-4d66-a1ef-08dbc5b0379e",
   "metadata": {},
   "outputs": [],
   "source": [
    "def svdpp_recommend_movies(user_id, svdpp, ratings_final, n_recommendations, movies_clean):\n",
    "    actual_ratings = get_actual_ratings(user_id, ratings_final)\n",
    "    \n",
    "    # Converting the list of actual ratings to a set for faster lookup\n",
    "    rated_movie_ids = set([movie_id for movie_id, _ in actual_ratings])\n",
    "    \n",
    "    predicted_ratings = get_predicted_ratings(user_id, svdpp, movies_clean)\n",
    "    \n",
    "    # Building the user profile\n",
    "    genre_profile = build_user_profile(user_id, ratings_final, movies_clean)\n",
    "    \n",
    "    # Filtering out movies the user has already rated from the predicted ratings\n",
    "    predicted_ratings = [(movie_id, rating) for movie_id, rating in predicted_ratings if movie_id not in rated_movie_ids]\n",
    "    \n",
    "    # Sorting the predicted ratings in descending order\n",
    "    predicted_ratings = sorted(predicted_ratings, key=lambda x: x[1], reverse=True)\n",
    "\n",
    "    # Getting the top N recommended movies\n",
    "    recommended_movies = [movies_clean.loc[movies_clean['movieId'] == movie_id] for movie_id, _ in predicted_ratings[:n_recommendations]]\n",
    "\n",
    "    # Getting the actual ratings\n",
    "    actual_ratings_dict = dict(actual_ratings)\n",
    "    \n",
    "    # Calculating precision@k and recall@k\n",
    "    precision_at_k_score = precision_at_k(predicted_ratings, actual_ratings_dict, genre_profile, n_recommendations)\n",
    "    \n",
    "    return recommended_movies, precision_at_k_score"
   ]
  },
  {
   "cell_type": "code",
   "execution_count": 48,
   "id": "1d9d4f16-a896-4c82-8053-f4d7c4bbcd03",
   "metadata": {},
   "outputs": [
    {
     "name": "stdout",
     "output_type": "stream",
     "text": [
      "Recommended movies for user: 1\n",
      "1 Amelie (Fabuleux destin d'Amélie Poulain, Le) (2001) | Genres: Comedy|Romance\n",
      "2 Boondock Saints, The (2000) | Genres: Action|Crime|Drama|Thriller\n",
      "3 Cool Hand Luke (1967) | Genres: Drama\n",
      "4 Dr. Strangelove or: How I Learned to Stop Worrying and Love the Bomb (1964) | Genres: Comedy|War\n",
      "5 Godfather: Part II, The (1974) | Genres: Crime|Drama\n",
      "6 Grand Day Out with Wallace and Gromit, A (1989) | Genres: Adventure|Animation|Children|Comedy|Sci-Fi\n",
      "7 Guess Who's Coming to Dinner (1967) | Genres: Drama\n",
      "8 Hoop Dreams (1994) | Genres: Documentary\n",
      "9 Hustler, The (1961) | Genres: Drama\n",
      "10 Kids (1995) | Genres: Drama\n",
      "Precision@10 for user 1: 0.3\n"
     ]
    }
   ],
   "source": [
    "user_id = 1\n",
    "n_recommendations = 10\n",
    "recommended_movies, precision_at_k_score = svdpp_recommend_movies(user_id, svdpp, ratings_final, n_recommendations, movies_clean)\n",
    "print_recommended_movies_svd(recommended_movies)\n",
    "print(\"Precision@{} for user {}: {:.1f}\".format(n_recommendations, user_id, precision))"
   ]
  },
  {
   "cell_type": "markdown",
   "id": "d483cac3-3120-4f46-a541-247b3a66f2e0",
   "metadata": {},
   "source": [
    "A clear pattern emerges after examining the movie suggestions provided by the SVD++ model for user 1. The model seems particularly drawn to movies that were released in the year 1995. What's interesting is that these recommendations span a variety of genres, ranging from lighthearted comedies like \"Father of the Bride Part II (1995)\" to adrenaline-pumping action like \"GoldenEye (1995)\" and even family-oriented adventures like \"Toy Story (1995)\". This diverse selection underscores the model's effort to account for various facets of the user's cinematic interests.\n",
    "\n",
    "However, regarding the Precision@10 score for user 1, the situation is somewhat mixed. The score of 0.4 signifies that merely 4 of 10 suggested movies genuinely aligned with the user's preferences."
   ]
  },
  {
   "cell_type": "markdown",
   "id": "7f8ace8b",
   "metadata": {},
   "source": [
    "## Restricted Boltzmann Machine (RBM)"
   ]
  },
  {
   "cell_type": "code",
   "execution_count": 49,
   "id": "d9665534-c9ea-4a9d-b65f-2faa21ca9da3",
   "metadata": {},
   "outputs": [],
   "source": [
    "# Referenced and adapted from: Kurama V, \"Beginner's Guide to Boltzmann Machines in PyTorch.\", 2020.[Online]\n",
    "# Available at: https://blog.paperspace.com/beginners-guide-to-boltzmann-machines-pytorch/ [Accessed 25th July 2023]\n",
    "\n",
    "# Referenced and adapted from: Peerbooms E, \"Training a Restricted Boltzmann Machine using pytorch.\", [Online]\n",
    "# Available at: https://staff.fnwi.uva.nl/e.peerbooms/rbm.html [Accessed 27th July 2023]\n",
    "\n",
    "# Referenced and adapted from: Ali A, \"TrainingRestricted Boltzmann Machine (RBM) with Practical Implementation.\", 2019.[Online]\n",
    "# Available at: https://medium.com/machine-learning-researcher/boltzmann-machine-c2ce76d94da5 [Accessed 27th July 2023]\n",
    "\n",
    "#The above references and code adaptations were also used for the training and testing sections below for the RBM model\n",
    "\n",
    "class GaussianRBM():\n",
    "    def __init__(self, visible_nodes, hidden_nodes):\n",
    "        self.W = torch.randn(hidden_nodes, visible_nodes) * 0.01\n",
    "        self.Bias1 = torch.zeros(1, hidden_nodes)\n",
    "        self.Bias2 = torch.zeros(1, visible_nodes)\n",
    "        \n",
    "    def sample_h(self, x):\n",
    "        wx = torch.mm(x, self.W.t())\n",
    "        activation = wx + self.Bias1.expand_as(wx)\n",
    "        p_h_given_v = torch.sigmoid(activation)\n",
    "        return p_h_given_v, torch.bernoulli(p_h_given_v)\n",
    "    \n",
    "    def sample_v(self, y):\n",
    "        wy = torch.mm(y, self.W)\n",
    "        activation = wy + self.Bias2.expand_as(wy)\n",
    "        return activation, torch.normal(mean=activation, std=1.0)\n",
    "    \n",
    "    def train(self, v0, vk, ph0, phk, lr=0.01):\n",
    "        self.W += lr * (torch.mm(v0.t(), ph0) - torch.mm(vk.t(), phk)).t() / batch_size\n",
    "        self.Bias1 += lr * torch.sum((ph0 - phk), 0) / batch_size\n",
    "        self.Bias2 += lr * torch.sum((v0 - vk), 0) / batch_size\n",
    "\n",
    "visible_nodes = len(training_set[0])\n",
    "hidden_nodes = 100\n",
    "batch_size = 64\n",
    "rbm = GaussianRBM(visible_nodes, hidden_nodes)"
   ]
  },
  {
   "cell_type": "markdown",
   "id": "61baa30e",
   "metadata": {},
   "source": [
    "#### Training the RBM"
   ]
  },
  {
   "cell_type": "code",
   "execution_count": 50,
   "id": "655f30b7-7b8e-40cd-8486-87123a1b210a",
   "metadata": {},
   "outputs": [
    {
     "name": "stdout",
     "output_type": "stream",
     "text": [
      "epoch: 1 loss: 1.0826387426077677\n",
      "epoch: 2 loss: 1.0821562787979047\n",
      "epoch: 3 loss: 1.0820939198838686\n",
      "epoch: 4 loss: 1.081576178936632\n",
      "epoch: 5 loss: 1.0803641001891184\n",
      "epoch: 6 loss: 1.0805824611181736\n",
      "epoch: 7 loss: 1.0810968694245673\n",
      "epoch: 8 loss: 1.0801257020129895\n",
      "epoch: 9 loss: 1.080999798765751\n",
      "epoch: 10 loss: 1.0787768111925897\n",
      "epoch: 11 loss: 1.0797252685340781\n",
      "epoch: 12 loss: 1.0800343968702668\n",
      "epoch: 13 loss: 1.078619896302092\n",
      "epoch: 14 loss: 1.078647765765701\n",
      "epoch: 15 loss: 1.0788335626169723\n",
      "epoch: 16 loss: 1.0788212412890177\n",
      "epoch: 17 loss: 1.078313097475198\n",
      "epoch: 18 loss: 1.079215706879365\n",
      "epoch: 19 loss: 1.0791371255073212\n",
      "epoch: 20 loss: 1.0787742610442108\n",
      "epoch: 21 loss: 1.078722204243294\n",
      "epoch: 22 loss: 1.0788374622352142\n",
      "epoch: 23 loss: 1.077904460353007\n",
      "epoch: 24 loss: 1.0777742385846478\n",
      "epoch: 25 loss: 1.0785590520750887\n",
      "epoch: 26 loss: 1.0773780276764737\n",
      "epoch: 27 loss: 1.0778266687609475\n",
      "epoch: 28 loss: 1.077314043698458\n",
      "epoch: 29 loss: 1.0777385426406696\n",
      "epoch: 30 loss: 1.0769394162667905\n",
      "epoch: 31 loss: 1.0767876932567835\n",
      "epoch: 32 loss: 1.0767460138475444\n",
      "epoch: 33 loss: 1.0757521790570594\n",
      "epoch: 34 loss: 1.0762605510635632\n",
      "epoch: 35 loss: 1.0768394837621722\n",
      "epoch: 36 loss: 1.0758408270353177\n",
      "epoch: 37 loss: 1.0760347401128467\n",
      "epoch: 38 loss: 1.0763925640624832\n",
      "epoch: 39 loss: 1.0757679871607728\n",
      "epoch: 40 loss: 1.0754600232003169\n",
      "epoch: 41 loss: 1.0753869795760922\n",
      "epoch: 42 loss: 1.0755221786996583\n",
      "epoch: 43 loss: 1.0757869583074537\n",
      "epoch: 44 loss: 1.075466224149561\n",
      "epoch: 45 loss: 1.0764629615432013\n",
      "epoch: 46 loss: 1.0753005922088945\n",
      "epoch: 47 loss: 1.075208378165705\n",
      "epoch: 48 loss: 1.0753372780705568\n",
      "epoch: 49 loss: 1.0754024549732417\n",
      "epoch: 50 loss: 1.0749292981414738\n",
      "epoch: 51 loss: 1.0752362513303237\n",
      "epoch: 52 loss: 1.0753042994158466\n",
      "epoch: 53 loss: 1.0761250868572474\n",
      "epoch: 54 loss: 1.075022818448888\n",
      "epoch: 55 loss: 1.0755530062032812\n",
      "epoch: 56 loss: 1.0758981709160813\n",
      "epoch: 57 loss: 1.0748093368391587\n",
      "epoch: 58 loss: 1.0749847021457617\n",
      "epoch: 59 loss: 1.0752790964239929\n",
      "epoch: 60 loss: 1.0740848270765189\n",
      "epoch: 61 loss: 1.0754959483186735\n",
      "epoch: 62 loss: 1.0745332066064115\n",
      "epoch: 63 loss: 1.074023298309693\n",
      "epoch: 64 loss: 1.074974066210054\n",
      "epoch: 65 loss: 1.0746660095623806\n",
      "epoch: 66 loss: 1.075355841516157\n",
      "epoch: 67 loss: 1.0750470843974635\n",
      "epoch: 68 loss: 1.0749153482387113\n",
      "epoch: 69 loss: 1.0746638900666492\n",
      "epoch: 70 loss: 1.0753242780292416\n",
      "epoch: 71 loss: 1.0745930505718981\n",
      "epoch: 72 loss: 1.0739982910468755\n",
      "epoch: 73 loss: 1.074444746993609\n",
      "epoch: 74 loss: 1.0744507986867529\n",
      "epoch: 75 loss: 1.0743523984882453\n",
      "epoch: 76 loss: 1.073766512711869\n",
      "epoch: 77 loss: 1.0747331987544175\n",
      "epoch: 78 loss: 1.0742242518193652\n",
      "epoch: 79 loss: 1.0738418763616633\n",
      "epoch: 80 loss: 1.073890570377557\n",
      "epoch: 81 loss: 1.0740847678346368\n",
      "epoch: 82 loss: 1.073741348952455\n",
      "epoch: 83 loss: 1.0739754953714569\n",
      "epoch: 84 loss: 1.0742686811981637\n",
      "epoch: 85 loss: 1.0744462782567434\n",
      "epoch: 86 loss: 1.0735246091867392\n",
      "epoch: 87 loss: 1.0739442388339475\n",
      "epoch: 88 loss: 1.0739311220770382\n",
      "epoch: 89 loss: 1.0741765914976507\n",
      "epoch: 90 loss: 1.0744411972775907\n",
      "epoch: 91 loss: 1.0741600487367002\n",
      "epoch: 92 loss: 1.0737903210727207\n",
      "epoch: 93 loss: 1.0741254937152607\n",
      "epoch: 94 loss: 1.0738513882386906\n",
      "epoch: 95 loss: 1.073804290542906\n",
      "epoch: 96 loss: 1.0739430107830001\n",
      "Early stopping!\n",
      "RBM Training set MAE: 1.0739430107830001\n",
      "RBM Training set RMSE: 1.0363122168453869\n"
     ]
    }
   ],
   "source": [
    "num_epochs = 100\n",
    "best_loss = float('inf')\n",
    "early_stopping_counter = 0\n",
    "\n",
    "# Creating a SummaryWriter object for TensorBoard\n",
    "writer = SummaryWriter('runs/rbm')\n",
    "\n",
    "for epoch in range(1, num_epochs + 1):\n",
    "    train_loss = 0\n",
    "    s = 0.\n",
    "    for user in range(0, num_users - batch_size, batch_size):\n",
    "        vk = training_set[user:user+batch_size]\n",
    "        v0 = training_set[user:user+batch_size]\n",
    "        ph0,_ = rbm.sample_h(v0)\n",
    "        for k in range(10):\n",
    "            _,hk = rbm.sample_h(vk)\n",
    "            _,vk = rbm.sample_v(hk)\n",
    "            vk[v0<0] = v0[v0<0]\n",
    "        phk,_ = rbm.sample_h(vk)\n",
    "        rbm.train(v0, vk, ph0, phk)\n",
    "        loss = torch.mean((v0[v0>=0] - vk[v0>=0])**2)  # Compute the mean squared error\n",
    "        train_loss += np.sqrt(loss.item())  # Accumulating the square root of the loss\n",
    "        s += 1.\n",
    "        \n",
    "    avg_loss = train_loss / s\n",
    "    print('epoch: '+str(epoch)+' loss: '+str(avg_loss))\n",
    "\n",
    "    # Logging the loss to TensorBoard\n",
    "    writer.add_scalar('training loss', avg_loss, epoch)\n",
    "\n",
    "    # Check for early stopping\n",
    "    if avg_loss < best_loss:\n",
    "        best_loss = avg_loss\n",
    "        early_stopping_counter = 0\n",
    "    else:\n",
    "        early_stopping_counter += 1\n",
    "        if early_stopping_counter >= 10:\n",
    "            print(\"Early stopping!\")\n",
    "            break\n",
    "\n",
    "# Calculating the final MAE and RMSE scores\n",
    "mae = avg_loss\n",
    "rmse = np.sqrt(avg_loss)\n",
    "\n",
    "# Printing the final MAE and RMSE scores\n",
    "print(\"RBM Training set MAE:\", mae)\n",
    "print(\"RBM Training set RMSE:\", rmse)\n",
    "\n",
    "# Closing the writer\n",
    "writer.close()"
   ]
  },
  {
   "cell_type": "code",
   "execution_count": 51,
   "id": "793e1051-1035-480d-adc1-7ddac0b7698f",
   "metadata": {},
   "outputs": [
    {
     "data": {
      "text/html": [
       "\n",
       "      <iframe id=\"tensorboard-frame-3bb427c1a1da059d\" width=\"100%\" height=\"800\" frameborder=\"0\">\n",
       "      </iframe>\n",
       "      <script>\n",
       "        (function() {\n",
       "          const frame = document.getElementById(\"tensorboard-frame-3bb427c1a1da059d\");\n",
       "          const url = new URL(\"/\", window.location);\n",
       "          const port = 8009;\n",
       "          if (port) {\n",
       "            url.port = port;\n",
       "          }\n",
       "          frame.src = url;\n",
       "        })();\n",
       "      </script>\n",
       "    "
      ],
      "text/plain": [
       "<IPython.core.display.HTML object>"
      ]
     },
     "metadata": {},
     "output_type": "display_data"
    }
   ],
   "source": [
    "# To run the tensorboard\n",
    "%tensorboard --logdir runs/rbm --port=8009"
   ]
  },
  {
   "cell_type": "markdown",
   "id": "cf467352-4f84-4371-a7ed-5a5937abe14f",
   "metadata": {},
   "source": [
    "### Testing the RBM"
   ]
  },
  {
   "cell_type": "code",
   "execution_count": 60,
   "id": "0f934a8a-db70-4019-bc0f-f2e20a0ceb0d",
   "metadata": {},
   "outputs": [
    {
     "name": "stdout",
     "output_type": "stream",
     "text": [
      "RBM Test set MAE: 2.3021214133969483\n",
      "RMB Test set RMSE: 1.517274336893941\n"
     ]
    }
   ],
   "source": [
    "test_loss = 0\n",
    "s = 0.\n",
    "# Testing Loop\n",
    "for user in range(0, num_users - batch_size, batch_size):\n",
    "    v0 = torch.Tensor(test_set[user:user+batch_size])\n",
    "    vk = torch.Tensor(test_set[user:user+batch_size])\n",
    "    if torch.sum(v0 > 0) > 0:\n",
    "        ph0,_ = rbm.sample_h(v0)\n",
    "        for k in range(10):\n",
    "            _,hk = rbm.sample_h(vk)\n",
    "            _,vk = rbm.sample_v(hk)\n",
    "            vk[v0<0] = v0[v0<0]\n",
    "        loss = torch.mean((v0[v0>=0] - vk[v0>=0])**2)  # Compute the mean squared error\n",
    "        mean_corrector = num_movies/float(torch.sum(v0 > 0) + 1e-10)\n",
    "        test_loss += np.sqrt(loss.item() * mean_corrector)\n",
    "        s += 1.\n",
    "        \n",
    "# Calculating the MAE and RMSE scores\n",
    "mae = test_loss / s\n",
    "rmse = np.sqrt(test_loss / s)\n",
    "\n",
    "# Printing the final MAE and RMSE scores\n",
    "print(\"RBM Test set MAE:\", mae)\n",
    "print(\"RMB Test set RMSE:\", rmse)"
   ]
  },
  {
   "cell_type": "markdown",
   "id": "54e95700-4a12-4cd3-b88e-9a4a03ba867c",
   "metadata": {},
   "source": [
    "### Recommending movie titles to users using the RBM model"
   ]
  },
  {
   "cell_type": "code",
   "execution_count": 66,
   "id": "325235e3-12d1-4bd0-a82f-8b6f215df3c3",
   "metadata": {},
   "outputs": [],
   "source": [
    "def rbm_recommend_movies(user_id, rbm, user_item_matrix, movies_clean, n_recommendations=10):    \n",
    "    # Getting the original ratings for the user\n",
    "    original_ratings = user_item_matrix.loc[user_id].values\n",
    "    v = torch.Tensor(original_ratings).unsqueeze(0)\n",
    "    \n",
    "    # Getting the predicted ratings for the user using RBM\n",
    "    with torch.no_grad():\n",
    "        ph, _ = rbm.sample_h(v)\n",
    "        reconstructed_v, _ = rbm.sample_v(ph)\n",
    "        predicted_ratings = reconstructed_v.numpy().squeeze()\n",
    "    \n",
    "    # Identifying movies that the user has not rated\n",
    "    unrated_movies_mask = (original_ratings == 0)\n",
    "    \n",
    "    # Getting the predicted ratings for unrated movies only\n",
    "    predicted_ratings_unrated = predicted_ratings * unrated_movies_mask\n",
    "    \n",
    "    # Combining movie IDs and their predicted ratings\n",
    "    movie_ratings = list(zip(user_item_matrix.columns, predicted_ratings_unrated))\n",
    "    \n",
    "    # Sorting the movies based on predicted ratings\n",
    "    sorted_movie_ratings = sorted(movie_ratings, key=lambda x: x[1], reverse=True)\n",
    "    \n",
    "    # Getting the top-n recommendations\n",
    "    top_n_movie_ratings = sorted_movie_ratings[:n_recommendations]\n",
    "    \n",
    "    # Getting the movie details for these recommendations\n",
    "    recommended_movies = movies_clean[movies_clean['movieId'].isin([movie[0] for movie in top_n_movie_ratings])]\n",
    "    \n",
    "    # User genre profile\n",
    "    genre_profile = build_user_profile(user_id, ratings_final, movies_clean)\n",
    "    \n",
    "    # Actual ratings of the user\n",
    "    actual_ratings = {movie: rating for movie, rating in zip(user_item_matrix.columns, original_ratings) if rating > 0}\n",
    "    \n",
    "    # Calculating Precision@k\n",
    "    precision = precision_at_k(top_n_movie_ratings, actual_ratings, genre_profile, k=n_recommendations)\n",
    "    \n",
    "    return recommended_movies, precision"
   ]
  },
  {
   "cell_type": "code",
   "execution_count": 67,
   "id": "191e8297-2cbe-47ce-a268-1ca62b4b4595",
   "metadata": {},
   "outputs": [
    {
     "name": "stdout",
     "output_type": "stream",
     "text": [
      "Recommended movies for user: 1\n",
      "1 Aliens (1986) | Genres: Action|Adventure|Horror|Sci-Fi\n",
      "2 Blade Runner (1982) | Genres: Action|Sci-Fi|Thriller\n",
      "3 Die Hard (1988) | Genres: Action|Crime|Thriller\n",
      "4 Godfather, The (1972) | Genres: Crime|Drama\n",
      "5 Sixth Sense, The (1999) | Genres: Drama|Horror|Mystery\n",
      "6 Star Trek II: The Wrath of Khan (1982) | Genres: Action|Adventure|Sci-Fi|Thriller\n",
      "7 Star Trek: First Contact (1996) | Genres: Action|Adventure|Sci-Fi|Thriller\n",
      "8 Terminator 2: Judgment Day (1991) | Genres: Action|Sci-Fi\n",
      "9 True Lies (1994) | Genres: Action|Adventure|Comedy|Romance|Thriller\n",
      "10 Twelve Monkeys (a.k.a. 12 Monkeys) (1995) | Genres: Mystery|Sci-Fi|Thriller\n",
      "Precision@10 for user 1: 0.2\n"
     ]
    }
   ],
   "source": [
    "# Recommending movie titles\n",
    "user_id = 1\n",
    "recommended_movies, precision = rbm_recommend_movies(user_id, rbm, user_item_matrix, movies_clean, n_recommendations=10)\n",
    "print_recommended_movies(recommended_movies)\n",
    "print(\"Precision@{} for user {}: {:.1f}\".format(n_recommendations, user_id, precision))"
   ]
  },
  {
   "cell_type": "markdown",
   "id": "a4b89ae8-459c-4509-8690-eedde3090480",
   "metadata": {},
   "source": [
    "Upon delving into the movie suggestions tailored by the RBM model for user 1, an intriguing pattern becomes evident. The model seems to have a pronounced affinity for action-packed films that span the late 70s through the mid-90s. This lineup of suggestions seems to suggest that the user might lean towards narratives containing action and captivating plots, occasionally infused with drama or sci-fi elements. The time period of these releases could also hint at a particular fondness for movies from that era, perhaps tied to nostalgia.\n",
    "\n",
    "Yet, a different story unfolds as we delve into the Precision@10 score. With a score of 0.2, only 2 out of the 10 recommended movies managed to strike a chord with the user's preferences. This indicates that while the model captures a broad theme, there's considerable room for improvement in refining its accuracy to align more closely with the user's cinematic tastes."
   ]
  },
  {
   "cell_type": "markdown",
   "id": "d73df525-85b4-44dc-9386-0d0dce270896",
   "metadata": {},
   "source": [
    "## Creating a hybrid model of Stacked Autoencoders and SVD"
   ]
  },
  {
   "cell_type": "code",
   "execution_count": 73,
   "id": "bf200ecb-2291-4e9e-8d4f-ec8dbc2ea819",
   "metadata": {},
   "outputs": [
    {
     "name": "stdout",
     "output_type": "stream",
     "text": [
      "Recommended movies for user: 1\n",
      "1 Come and See (Idi i smotri) (1985) | Genres: Drama|War\n",
      "2 Cool Hand Luke (1967) | Genres: Drama\n",
      "3 Four Seasons, The (1981) | Genres: Comedy|Drama\n",
      "4 Lawrence of Arabia (1962) | Genres: Adventure|Drama|War\n",
      "5 Philadelphia Story, The (1940) | Genres: Comedy|Drama|Romance\n",
      "6 Shawshank Redemption, The (1994) | Genres: Crime|Drama\n",
      "7 Sorority House Massacre (1986) | Genres: Horror\n",
      "8 The Man from Nowhere (2010) | Genres: Action|Crime|Thriller\n",
      "9 Three Billboards Outside Ebbing, Missouri (2017) | Genres: Crime|Drama\n",
      "10 Untitled Spider-Man Reboot (2017) | Genres: Action|Adventure|Fantasy\n",
      "Precision@10 for user 1: 0.7\n"
     ]
    }
   ],
   "source": [
    "# Recommending movies for the user with ID 1 using the hybrid model\n",
    "user_id = 1\n",
    "n_recommendations = 10\n",
    "recommended_movies, precision_at_k_score = hybrid_recommend_movies(user_id, stacked_auto_enc, svd, user_item_matrix, data, movies_clean, n_recommendations)\n",
    "print_recommended_movies(recommended_movies)\n",
    "print(\"Precision@{} for user {}: {:.1f}\".format(n_recommendations, user_id, precision_at_k_score))"
   ]
  },
  {
   "cell_type": "markdown",
   "id": "54e211ad-567e-4d20-b3f5-399dacd47ecd",
   "metadata": {},
   "source": [
    "The recommendations from the hybrid model for user 1 offer a diverse range of movie choices. From classics like \"Cool Hand Luke (1967)\" to modern comedies like \"Laggies (2014)\", the selections span different genres and eras, showcasing the model's aim to cater to various preferences.\n",
    "\n",
    "However, the Precision@10 score of 0.2 indicates that only 2 out of the 10 recommended movies align well with the user's tastes. While the model demonstrates diversity in its suggestions, there's room for improvement to enhance precision and better match the user's preferences."
   ]
  }
 ],
 "metadata": {
  "kernelspec": {
   "display_name": "Python 3.10 (tensorflow)",
   "language": "python",
   "name": "tensorflow"
  },
  "language_info": {
   "codemirror_mode": {
    "name": "ipython",
    "version": 3
   },
   "file_extension": ".py",
   "mimetype": "text/x-python",
   "name": "python",
   "nbconvert_exporter": "python",
   "pygments_lexer": "ipython3",
   "version": "3.10.9"
  }
 },
 "nbformat": 4,
 "nbformat_minor": 5
}
